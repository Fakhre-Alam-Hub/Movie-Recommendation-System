{
  "nbformat": 4,
  "nbformat_minor": 0,
  "metadata": {
    "colab": {
      "name": "DataScrapping2000s.ipynb",
      "provenance": [],
      "collapsed_sections": [],
      "toc_visible": true,
      "mount_file_id": "1TWlvQJsRQmzsZ7spRVZekzTU4XbedRsF",
      "authorship_tag": "ABX9TyPh2v6ZsdocyGq5h5MyyFQM",
      "include_colab_link": true
    },
    "kernelspec": {
      "name": "python3",
      "display_name": "Python 3"
    }
  },
  "cells": [
    {
      "cell_type": "markdown",
      "metadata": {
        "id": "view-in-github",
        "colab_type": "text"
      },
      "source": [
        "<a href=\"https://colab.research.google.com/github/Fakhre-Alam-Hub/Movie-Recommendation-System/blob/Data-Collection/Data%20collection/.ipython/DataScrapping2000s.ipynb\" target=\"_parent\"><img src=\"https://colab.research.google.com/assets/colab-badge.svg\" alt=\"Open In Colab\"/></a>"
      ]
    },
    {
      "cell_type": "markdown",
      "metadata": {
        "id": "b2jCT3bdNwUo"
      },
      "source": [
        "# Bollywood 2000s Movie Data Scrapping from Wikipedia"
      ]
    },
    {
      "cell_type": "code",
      "metadata": {
        "id": "iMOcZAbeIrDu"
      },
      "source": [
        "import pandas as pd\n",
        "import numpy as np"
      ],
      "execution_count": 21,
      "outputs": []
    },
    {
      "cell_type": "code",
      "metadata": {
        "id": "Y8Oo-mzfJRzP"
      },
      "source": [
        "link = \"https://en.wikipedia.org/wiki/List_of_Bollywood_films_of_2000\"\n",
        "df1 = pd.read_html(link, header=0)[3]\n",
        "\n",
        "df_2000 = df1\n",
        "df_2000['Year'] = np.array(['2000']*df_2000.shape[0])"
      ],
      "execution_count": 84,
      "outputs": []
    },
    {
      "cell_type": "code",
      "metadata": {
        "id": "w_P-FKTVJ5ZC"
      },
      "source": [
        "link = \"https://en.wikipedia.org/wiki/List_of_Bollywood_films_of_2001\"\n",
        "df1 = pd.read_html(link, header=0)[3]\n",
        "\n",
        "df_2001 = df1\n",
        "\n",
        "df_2001['Year'] = np.array(['2001']*df_2001.shape[0])\n"
      ],
      "execution_count": 86,
      "outputs": []
    },
    {
      "cell_type": "code",
      "metadata": {
        "id": "JaBINqnVHGlE"
      },
      "source": [
        "# df1 = pd.read_html(link, header=0)[2]\n",
        "# df2 = pd.read_html(link, header=0)[3]\n",
        "# df3 = pd.read_html(link, header=0)[4]\n",
        "# df4 = pd.read_html(link, header=0)[5]\n",
        "# df5 = pd.read_html(link, header=0)[6]\n",
        "# df6 = pd.read_html(link, header=0)[7]\n",
        "\n",
        "# df_1963 = df1.append(df2.append(df3.append(df4.append(df5.append(df6,ignore_index=True)\n",
        "# ,ignore_index=True),ignore_index=True),ignore_index=True),ignore_index=True)\n"
      ],
      "execution_count": 5,
      "outputs": []
    },
    {
      "cell_type": "code",
      "metadata": {
        "id": "s4qESFW4KPM6"
      },
      "source": [
        "link = \"https://en.wikipedia.org/wiki/List_of_Bollywood_films_of_2002\"\n",
        "df1 = pd.read_html(link, header=0)[2]\n",
        "\n",
        "df_2002 = df1\n",
        "\n",
        "df_2002['Year'] = np.array(['2002']*df_2002.shape[0])\n"
      ],
      "execution_count": 89,
      "outputs": []
    },
    {
      "cell_type": "code",
      "metadata": {
        "id": "EmRKpFsYKiSo"
      },
      "source": [
        "link = \"https://en.wikipedia.org/wiki/List_of_Bollywood_films_of_2003\"\n",
        "df1 = pd.read_html(link, header=0)[3]\n",
        "\n",
        "df_2003 = df1\n",
        "\n",
        "df_2003['Year'] = np.array(['2003']*df_2003.shape[0])\n"
      ],
      "execution_count": 93,
      "outputs": []
    },
    {
      "cell_type": "code",
      "metadata": {
        "id": "ipq_iR06J8kH"
      },
      "source": [
        "link = \"https://en.wikipedia.org/wiki/List_of_Bollywood_films_of_2004\"\n",
        "df1 = pd.read_html(link, header=0)[3]\n",
        "\n",
        "df_2004 = df1\n",
        "\n",
        "df_2004['Year'] = np.array(['2004']*df_2004.shape[0])\n"
      ],
      "execution_count": 96,
      "outputs": []
    },
    {
      "cell_type": "code",
      "metadata": {
        "id": "T3B1mj4gK67M"
      },
      "source": [
        "link = \"https://en.wikipedia.org/wiki/List_of_Bollywood_films_of_2005\"\n",
        "df1 = pd.read_html(link, header=0)[3]\n",
        "\n",
        "df_2005 = df1\n",
        "\n",
        "df_2005['Year'] = np.array(['2005']*df_2005.shape[0])"
      ],
      "execution_count": 98,
      "outputs": []
    },
    {
      "cell_type": "code",
      "metadata": {
        "id": "zusFEpS8K9iu"
      },
      "source": [
        "link = \"https://en.wikipedia.org/wiki/List_of_Bollywood_films_of_2006\"\n",
        "df1 = pd.read_html(link, header=0)[2]\n",
        "\n",
        "df_2006 = df1\n",
        "\n",
        "df_2006['Year'] = np.array(['2006']*df_2006.shape[0])"
      ],
      "execution_count": 102,
      "outputs": []
    },
    {
      "cell_type": "code",
      "metadata": {
        "id": "RIlbb_aHMNap"
      },
      "source": [
        "link = \"https://en.wikipedia.org/wiki/List_of_Bollywood_films_of_2007\"\n",
        "df1 = pd.read_html(link, header=0)[2]\n",
        "\n",
        "df_2007 = df1\n",
        "\n",
        "df_2007['Year'] = np.array(['2007']*df_2007.shape[0])"
      ],
      "execution_count": 106,
      "outputs": []
    },
    {
      "cell_type": "code",
      "metadata": {
        "id": "pPJWfA4XMT2Y"
      },
      "source": [
        "link = \"https://en.wikipedia.org/wiki/List_of_Bollywood_films_of_2008\"\n",
        "df1 = pd.read_html(link, header=0)[3]\n",
        "\n",
        "df_2008 = df1\n",
        "\n",
        "df_2008['Year'] = np.array(['2008']*df_2008.shape[0])"
      ],
      "execution_count": 110,
      "outputs": []
    },
    {
      "cell_type": "code",
      "metadata": {
        "id": "liFekx6tMb2p"
      },
      "source": [
        "link = \"https://en.wikipedia.org/wiki/List_of_Bollywood_films_of_2009\"\n",
        "df1 = pd.read_html(link, header=0)[3]\n",
        "df2 = pd.read_html(link, header=0)[4]\n",
        "df3 = pd.read_html(link, header=0)[5]\n",
        "df4 = pd.read_html(link, header=0)[6]\n",
        "\n",
        "df_2009 = df1.append(df2.append(df3.append(df4,ignore_index=True),ignore_index=True),ignore_index=True)\n",
        "\n",
        "df_2009['Year'] = np.array(['2009']*df_2009.shape[0])"
      ],
      "execution_count": 116,
      "outputs": []
    },
    {
      "cell_type": "code",
      "metadata": {
        "id": "KG6X0T-oMiUG"
      },
      "source": [
        "frames = [df_2000,df_2001,df_2002,df_2003,df_2004,df_2005,df_2006,df_2007,df_2008,df_2009]\n",
        "\n",
        "df_2000s = pd.concat(frames,ignore_index=True)"
      ],
      "execution_count": 118,
      "outputs": []
    },
    {
      "cell_type": "code",
      "metadata": {
        "id": "Xpjd1I_3MoDM"
      },
      "source": [
        "df_2000s.to_csv('2000s.csv', index = False) "
      ],
      "execution_count": 119,
      "outputs": []
    },
    {
      "cell_type": "code",
      "metadata": {
        "id": "ABZ8EYx4vgi-"
      },
      "source": [
        ""
      ],
      "execution_count": null,
      "outputs": []
    }
  ]
}