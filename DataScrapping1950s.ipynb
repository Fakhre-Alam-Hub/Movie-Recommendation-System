{
  "nbformat": 4,
  "nbformat_minor": 0,
  "metadata": {
    "colab": {
      "name": "DataScrapping1950s.ipynb",
      "provenance": [],
      "mount_file_id": "1TWlvQJsRQmzsZ7spRVZekzTU4XbedRsF",
      "authorship_tag": "ABX9TyOHfka2n1kZdRaE5bJXrn1J",
      "include_colab_link": true
    },
    "kernelspec": {
      "name": "python3",
      "display_name": "Python 3"
    }
  },
  "cells": [
    {
      "cell_type": "markdown",
      "metadata": {
        "id": "view-in-github",
        "colab_type": "text"
      },
      "source": [
        "<a href=\"https://colab.research.google.com/github/Fakhre-Alam-Hub/Movie-Recommendation-System/blob/main/DataScrapping1950s.ipynb\" target=\"_parent\"><img src=\"https://colab.research.google.com/assets/colab-badge.svg\" alt=\"Open In Colab\"/></a>"
      ]
    },
    {
      "cell_type": "code",
      "metadata": {
        "id": "ei7-Mo0rN_8a"
      },
      "source": [
        ""
      ],
      "execution_count": null,
      "outputs": []
    },
    {
      "cell_type": "markdown",
      "metadata": {
        "id": "b2jCT3bdNwUo"
      },
      "source": [
        "# Bollywood 1950s Movie Data Scrapping from Wikipedia"
      ]
    },
    {
      "cell_type": "code",
      "metadata": {
        "id": "iMOcZAbeIrDu"
      },
      "source": [
        "import pandas as pd\n",
        "import numpy as np"
      ],
      "execution_count": 1,
      "outputs": []
    },
    {
      "cell_type": "code",
      "metadata": {
        "id": "Y8Oo-mzfJRzP"
      },
      "source": [
        "link = \"https://en.wikipedia.org/wiki/List_of_Bollywood_films_of_1950\"\n",
        "df1 = pd.read_html(link, header=0)[2]\n",
        "df2 = pd.read_html(link, header=0)[3]\n",
        "df3 = pd.read_html(link, header=0)[4]\n",
        "df4 = pd.read_html(link, header=0)[5]\n",
        "\n",
        "df_1950 = df1.append(df2.append(df3.append(df4,ignore_index=True),ignore_index=True),ignore_index=True)\n",
        "\n",
        "df_1950['Year'] = np.array(['1950']*df_1950.shape[0])"
      ],
      "execution_count": 16,
      "outputs": []
    },
    {
      "cell_type": "code",
      "metadata": {
        "id": "w_P-FKTVJ5ZC"
      },
      "source": [
        "link = \"https://en.wikipedia.org/wiki/List_of_Bollywood_films_of_1951\"\n",
        "df1 = pd.read_html(link, header=0)[2]\n",
        "df2 = pd.read_html(link, header=0)[3]\n",
        "df3 = pd.read_html(link, header=0)[4]\n",
        "df4 = pd.read_html(link, header=0)[5]\n",
        "\n",
        "df_1951 = df1.append(df2.append(df3.append(df4,ignore_index=True),ignore_index=True),ignore_index=True)\n",
        "\n",
        "df_1951['Year'] = np.array(['1951']*df_1951.shape[0])"
      ],
      "execution_count": 18,
      "outputs": []
    },
    {
      "cell_type": "code",
      "metadata": {
        "id": "s4qESFW4KPM6"
      },
      "source": [
        "link = \"https://en.wikipedia.org/wiki/List_of_Bollywood_films_of_1952\"\n",
        "df1 = pd.read_html(link, header=0)[2]\n",
        "df2 = pd.read_html(link, header=0)[3]\n",
        "df3 = pd.read_html(link, header=0)[4]\n",
        "df4 = pd.read_html(link, header=0)[5]\n",
        "\n",
        "df_1952 = df1.append(df2.append(df3.append(df4,ignore_index=True),ignore_index=True),ignore_index=True)\n",
        "\n",
        "df_1952['Year'] = np.array(['1952']*df_1952.shape[0])"
      ],
      "execution_count": 20,
      "outputs": []
    },
    {
      "cell_type": "code",
      "metadata": {
        "id": "EmRKpFsYKiSo"
      },
      "source": [
        "link = \"https://en.wikipedia.org/wiki/List_of_Bollywood_films_of_1953\"\n",
        "df1 = pd.read_html(link, header=0)[2]\n",
        "df2 = pd.read_html(link, header=0)[3]\n",
        "df3 = pd.read_html(link, header=0)[4]\n",
        "df4 = pd.read_html(link, header=0)[5]\n",
        "df5 = pd.read_html(link, header=0)[6]\n",
        "\n",
        "df_1953 = df1.append(df2.append(df3.append(df4.append(df5,ignore_index=True),ignore_index=True),ignore_index=True),ignore_index=True)\n",
        "\n",
        "df_1953['Year'] = np.array(['1953']*df_1953.shape[0])"
      ],
      "execution_count": 21,
      "outputs": []
    },
    {
      "cell_type": "code",
      "metadata": {
        "id": "ipq_iR06J8kH"
      },
      "source": [
        "link = \"https://en.wikipedia.org/wiki/List_of_Bollywood_films_of_1954\"\n",
        "df1 = pd.read_html(link, header=0)[2]\n",
        "df2 = pd.read_html(link, header=0)[3]\n",
        "df3 = pd.read_html(link, header=0)[4]\n",
        "df4 = pd.read_html(link, header=0)[5]\n",
        "\n",
        "df_1954 = df1.append(df2.append(df3.append(df4,ignore_index=True),ignore_index=True),ignore_index=True)\n",
        "\n",
        "df_1954['Year'] = np.array(['1954']*df_1954.shape[0])"
      ],
      "execution_count": 22,
      "outputs": []
    },
    {
      "cell_type": "code",
      "metadata": {
        "id": "T3B1mj4gK67M"
      },
      "source": [
        "link = \"https://en.wikipedia.org/wiki/List_of_Bollywood_films_of_1955\"\n",
        "df1 = pd.read_html(link, header=0)[2]\n",
        "df2 = pd.read_html(link, header=0)[3]\n",
        "df3 = pd.read_html(link, header=0)[4]\n",
        "df4 = pd.read_html(link, header=0)[5]\n",
        "\n",
        "df_1955 = df1.append(df2.append(df3.append(df4,ignore_index=True),ignore_index=True),ignore_index=True)\n",
        "\n",
        "df_1955['Year'] = np.array(['1955']*df_1955.shape[0])"
      ],
      "execution_count": 23,
      "outputs": []
    },
    {
      "cell_type": "code",
      "metadata": {
        "id": "zusFEpS8K9iu"
      },
      "source": [
        "link = \"https://en.wikipedia.org/wiki/List_of_Bollywood_films_of_1956\"\n",
        "df1 = pd.read_html(link, header=0)[2]\n",
        "df2 = pd.read_html(link, header=0)[3]\n",
        "df3 = pd.read_html(link, header=0)[4]\n",
        "df4 = pd.read_html(link, header=0)[5]\n",
        "\n",
        "df_1956 = df1.append(df2.append(df3.append(df4,ignore_index=True),ignore_index=True),ignore_index=True)\n",
        "\n",
        "df_1956['Year'] = np.array(['1956']*df_1956.shape[0])"
      ],
      "execution_count": 24,
      "outputs": []
    },
    {
      "cell_type": "code",
      "metadata": {
        "id": "RIlbb_aHMNap"
      },
      "source": [
        "link = \"https://en.wikipedia.org/wiki/List_of_Bollywood_films_of_1957\"\n",
        "df1 = pd.read_html(link, header=0)[2]\n",
        "df2 = pd.read_html(link, header=0)[3]\n",
        "df3 = pd.read_html(link, header=0)[4]\n",
        "df4 = pd.read_html(link, header=0)[5]\n",
        "\n",
        "df_1957 = df1.append(df2.append(df3.append(df4,ignore_index=True),ignore_index=True),ignore_index=True)\n",
        "\n",
        "df_1957['Year'] = np.array(['1957']*df_1957.shape[0])"
      ],
      "execution_count": 25,
      "outputs": []
    },
    {
      "cell_type": "code",
      "metadata": {
        "id": "pPJWfA4XMT2Y"
      },
      "source": [
        "link = \"https://en.wikipedia.org/wiki/List_of_Bollywood_films_of_1958\"\n",
        "df1 = pd.read_html(link, header=0)[2]\n",
        "df2 = pd.read_html(link, header=0)[3]\n",
        "df3 = pd.read_html(link, header=0)[4]\n",
        "df4 = pd.read_html(link, header=0)[5]\n",
        "\n",
        "df_1958 = df1.append(df2.append(df3.append(df4,ignore_index=True),ignore_index=True),ignore_index=True)\n",
        "\n",
        "df_1958['Year'] = np.array(['1958']*df_1958.shape[0])"
      ],
      "execution_count": 26,
      "outputs": []
    },
    {
      "cell_type": "code",
      "metadata": {
        "id": "liFekx6tMb2p"
      },
      "source": [
        "link = \"https://en.wikipedia.org/wiki/List_of_Bollywood_films_of_1959\"\n",
        "df1 = pd.read_html(link, header=0)[2]\n",
        "df2 = pd.read_html(link, header=0)[3]\n",
        "df3 = pd.read_html(link, header=0)[4]\n",
        "\n",
        "df_1959 = df1.append(df2.append(df3,ignore_index=True),ignore_index=True)\n",
        "\n",
        "df_1959['Year'] = np.array(['1959']*df_1959.shape[0])"
      ],
      "execution_count": 27,
      "outputs": []
    },
    {
      "cell_type": "code",
      "metadata": {
        "id": "KG6X0T-oMiUG"
      },
      "source": [
        "frames = [df_1950,df_1951,df_1952,df_1953,df_1954,df_1955,df_1956,df_1957,df_1958,df_1959]\n",
        "\n",
        "df_1950s = pd.concat(frames,ignore_index=True)"
      ],
      "execution_count": 28,
      "outputs": []
    },
    {
      "cell_type": "code",
      "metadata": {
        "id": "Xpjd1I_3MoDM"
      },
      "source": [
        "df_1950s.to_csv('1950s.csv', index = False) "
      ],
      "execution_count": 33,
      "outputs": []
    },
    {
      "cell_type": "code",
      "metadata": {
        "id": "1kZ4Wb6LMq4j"
      },
      "source": [
        ""
      ],
      "execution_count": null,
      "outputs": []
    }
  ]
}