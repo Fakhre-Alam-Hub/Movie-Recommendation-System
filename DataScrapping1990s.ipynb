{
  "nbformat": 4,
  "nbformat_minor": 0,
  "metadata": {
    "colab": {
      "name": "DataScrapping1990s.ipynb",
      "provenance": [],
      "collapsed_sections": [],
      "toc_visible": true,
      "mount_file_id": "1TWlvQJsRQmzsZ7spRVZekzTU4XbedRsF",
      "authorship_tag": "ABX9TyM7pB8tJ6ryn5wpCdtDqCmh",
      "include_colab_link": true
    },
    "kernelspec": {
      "name": "python3",
      "display_name": "Python 3"
    }
  },
  "cells": [
    {
      "cell_type": "markdown",
      "metadata": {
        "id": "view-in-github",
        "colab_type": "text"
      },
      "source": [
        "<a href=\"https://colab.research.google.com/github/Fakhre-Alam-Hub/Movie-Recommendation-System/blob/main/DataScrapping1990s.ipynb\" target=\"_parent\"><img src=\"https://colab.research.google.com/assets/colab-badge.svg\" alt=\"Open In Colab\"/></a>"
      ]
    },
    {
      "cell_type": "markdown",
      "metadata": {
        "id": "b2jCT3bdNwUo"
      },
      "source": [
        "# Bollywood 1990s Movie Data Scrapping from Wikipedia"
      ]
    },
    {
      "cell_type": "code",
      "metadata": {
        "id": "iMOcZAbeIrDu"
      },
      "source": [
        "import pandas as pd\n",
        "import numpy as np"
      ],
      "execution_count": 21,
      "outputs": []
    },
    {
      "cell_type": "code",
      "metadata": {
        "id": "Y8Oo-mzfJRzP"
      },
      "source": [
        "link = \"https://en.wikipedia.org/wiki/List_of_Bollywood_films_of_1990\"\n",
        "df1 = pd.read_html(link, header=0)[3]\n",
        "\n",
        "df_1990 = df1\n",
        "df_1990['Year'] = np.array(['1990']*df_1990.shape[0])"
      ],
      "execution_count": 49,
      "outputs": []
    },
    {
      "cell_type": "code",
      "metadata": {
        "id": "w_P-FKTVJ5ZC"
      },
      "source": [
        "link = \"https://en.wikipedia.org/wiki/List_of_Bollywood_films_of_1991\"\n",
        "df1 = pd.read_html(link, header=0)[3]\n",
        "\n",
        "df_1991 = df1\n",
        "\n",
        "df_1991['Year'] = np.array(['1991']*df_1991.shape[0])\n"
      ],
      "execution_count": 50,
      "outputs": []
    },
    {
      "cell_type": "code",
      "metadata": {
        "id": "JaBINqnVHGlE"
      },
      "source": [
        "# df1 = pd.read_html(link, header=0)[2]\n",
        "# df2 = pd.read_html(link, header=0)[3]\n",
        "# df3 = pd.read_html(link, header=0)[4]\n",
        "# df4 = pd.read_html(link, header=0)[5]\n",
        "# df5 = pd.read_html(link, header=0)[6]\n",
        "# df6 = pd.read_html(link, header=0)[7]\n",
        "\n",
        "# df_1963 = df1.append(df2.append(df3.append(df4.append(df5.append(df6,ignore_index=True),ignore_index=True),ignore_index=True),ignore_index=True),ignore_index=True)\n"
      ],
      "execution_count": 5,
      "outputs": []
    },
    {
      "cell_type": "code",
      "metadata": {
        "id": "s4qESFW4KPM6"
      },
      "source": [
        "link = \"https://en.wikipedia.org/wiki/List_of_Bollywood_films_of_1992\"\n",
        "df1 = pd.read_html(link, header=0)[2]\n",
        "df2 = pd.read_html(link, header=0)[3]\n",
        "df3 = pd.read_html(link, header=0)[4]\n",
        "df4 = pd.read_html(link, header=0)[5]\n",
        "\n",
        "df_1992 = df1.append(df2.append(df3.append(df4,ignore_index=True),ignore_index=True),ignore_index=True)\n",
        "\n",
        "df_1992['Year'] = np.array(['1992']*df_1992.shape[0])\n"
      ],
      "execution_count": 61,
      "outputs": []
    },
    {
      "cell_type": "code",
      "metadata": {
        "id": "EmRKpFsYKiSo"
      },
      "source": [
        "link = \"https://en.wikipedia.org/wiki/List_of_Bollywood_films_of_1993\"\n",
        "df1 = pd.read_html(link, header=0)[3]\n",
        "\n",
        "df_1993 = df1\n",
        "\n",
        "\n",
        "df_1993['Year'] = np.array(['1993']*df_1993.shape[0])\n"
      ],
      "execution_count": 63,
      "outputs": []
    },
    {
      "cell_type": "code",
      "metadata": {
        "id": "ipq_iR06J8kH"
      },
      "source": [
        "link = \"https://en.wikipedia.org/wiki/List_of_Bollywood_films_of_1994\"\n",
        "df1 = pd.read_html(link, header=0)[3]\n",
        "\n",
        "df_1994 = df1\n",
        "\n",
        "df_1994['Year'] = np.array(['1994']*df_1994.shape[0])\n"
      ],
      "execution_count": 64,
      "outputs": []
    },
    {
      "cell_type": "code",
      "metadata": {
        "id": "T3B1mj4gK67M"
      },
      "source": [
        "link = \"https://en.wikipedia.org/wiki/List_of_Bollywood_films_of_1995\"\n",
        "df1 = pd.read_html(link, header=0)[3]\n",
        "df2 = pd.read_html(link, header=0)[4]\n",
        "df3 = pd.read_html(link, header=0)[5]\n",
        "df4 = pd.read_html(link, header=0)[6]\n",
        "\n",
        "df_1995 = df1.append(df2.append(df3.append(df4,ignore_index=True),ignore_index=True),ignore_index=True)\n",
        "\n",
        "df_1995['Year'] = np.array(['1995']*df_1995.shape[0])"
      ],
      "execution_count": 71,
      "outputs": []
    },
    {
      "cell_type": "code",
      "metadata": {
        "id": "zusFEpS8K9iu"
      },
      "source": [
        "link = \"https://en.wikipedia.org/wiki/List_of_Bollywood_films_of_1996\"\n",
        "df1 = pd.read_html(link, header=0)[3]\n",
        "\n",
        "df_1996 = df1\n",
        "\n",
        "df_1996['Year'] = np.array(['1996']*df_1996.shape[0])"
      ],
      "execution_count": 73,
      "outputs": []
    },
    {
      "cell_type": "code",
      "metadata": {
        "id": "RIlbb_aHMNap"
      },
      "source": [
        "link = \"https://en.wikipedia.org/wiki/List_of_Bollywood_films_of_1997\"\n",
        "df1 = pd.read_html(link, header=0)[3]\n",
        "\n",
        "df_1997 = df1\n",
        "\n",
        "df_1997['Year'] = np.array(['1997']*df_1997.shape[0])"
      ],
      "execution_count": 75,
      "outputs": []
    },
    {
      "cell_type": "code",
      "metadata": {
        "id": "pPJWfA4XMT2Y"
      },
      "source": [
        "link = \"https://en.wikipedia.org/wiki/List_of_Bollywood_films_of_1998\"\n",
        "df1 = pd.read_html(link, header=0)[3]\n",
        "\n",
        "df_1998 = df1\n",
        "\n",
        "df_1998['Year'] = np.array(['1998']*df_1998.shape[0])"
      ],
      "execution_count": 77,
      "outputs": []
    },
    {
      "cell_type": "code",
      "metadata": {
        "id": "liFekx6tMb2p"
      },
      "source": [
        "link = \"https://en.wikipedia.org/wiki/List_of_Bollywood_films_of_1999\"\n",
        "df1 = pd.read_html(link, header=0)[3]\n",
        "\n",
        "df_1999 = df1\n",
        "\n",
        "df_1999['Year'] = np.array(['1999']*df_1999.shape[0])"
      ],
      "execution_count": 79,
      "outputs": []
    },
    {
      "cell_type": "code",
      "metadata": {
        "id": "KG6X0T-oMiUG"
      },
      "source": [
        "frames = [df_1990,df_1991,df_1992,df_1993,df_1994,df_1995,df_1996,df_1997,df_1998,df_1999]\n",
        "\n",
        "df_1990s = pd.concat(frames,ignore_index=True)"
      ],
      "execution_count": 81,
      "outputs": []
    },
    {
      "cell_type": "code",
      "metadata": {
        "id": "Xpjd1I_3MoDM"
      },
      "source": [
        "df_1990s.to_csv('1990s.csv', index = False) "
      ],
      "execution_count": 82,
      "outputs": []
    }
  ]
}