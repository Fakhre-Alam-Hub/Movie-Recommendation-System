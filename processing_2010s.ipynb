{
  "nbformat": 4,
  "nbformat_minor": 0,
  "metadata": {
    "colab": {
      "name": "processing_2010s.ipynb",
      "provenance": [],
      "mount_file_id": "1JiMEeYBtHlv0kQ6-zfG2TDXwNgz2eZGE",
      "authorship_tag": "ABX9TyPVGhdCCfNn5pebTRMy4BeA",
      "include_colab_link": true
    },
    "kernelspec": {
      "name": "python3",
      "display_name": "Python 3"
    },
    "accelerator": "GPU"
  },
  "cells": [
    {
      "cell_type": "markdown",
      "metadata": {
        "id": "view-in-github",
        "colab_type": "text"
      },
      "source": [
        "<a href=\"https://colab.research.google.com/github/Fakhre-Alam-Hub/Movie-Recommendation-System/blob/main/processing_2010s.ipynb\" target=\"_parent\"><img src=\"https://colab.research.google.com/assets/colab-badge.svg\" alt=\"Open In Colab\"/></a>"
      ]
    },
    {
      "cell_type": "markdown",
      "metadata": {
        "id": "0zDyGQgpOX9g"
      },
      "source": [
        "## **Adding Genre And Rating In The 2010s Dataset**"
      ]
    },
    {
      "cell_type": "code",
      "metadata": {
        "id": "TQ13QKeYWin6",
        "outputId": "e362ced4-122a-41ac-aa73-42429e60f5a6",
        "colab": {
          "base_uri": "https://localhost:8080/",
          "height": 69
        }
      },
      "source": [
        "!pip install IMDbpy"
      ],
      "execution_count": 13,
      "outputs": [
        {
          "output_type": "stream",
          "text": [
            "Requirement already satisfied: IMDbpy in /usr/local/lib/python3.6/dist-packages (2020.9.25)\n",
            "Requirement already satisfied: SQLAlchemy in /usr/local/lib/python3.6/dist-packages (from IMDbpy) (1.3.19)\n",
            "Requirement already satisfied: lxml in /usr/local/lib/python3.6/dist-packages (from IMDbpy) (4.2.6)\n"
          ],
          "name": "stdout"
        }
      ]
    },
    {
      "cell_type": "code",
      "metadata": {
        "id": "ZrCrk5j0C5LK"
      },
      "source": [
        "import pandas as pd\n",
        "import numpy as np\n",
        "import pickle\n",
        "import imdb\n"
      ],
      "execution_count": 14,
      "outputs": []
    },
    {
      "cell_type": "code",
      "metadata": {
        "id": "vq1Kr7BEGFEN"
      },
      "source": [
        "df_2010s = pd.read_csv(\"/content/drive/My Drive/dataset/Movie Recommendation System/Dataset/2010s.csv\")"
      ],
      "execution_count": 15,
      "outputs": []
    },
    {
      "cell_type": "code",
      "metadata": {
        "id": "Hc72PzRKHncv",
        "outputId": "e138a29a-6d0d-45bf-b4ab-27d1e107a5b5",
        "colab": {
          "base_uri": "https://localhost:8080/",
          "height": 402
        }
      },
      "source": [
        "df_2010s.head(7)"
      ],
      "execution_count": 16,
      "outputs": [
        {
          "output_type": "execute_result",
          "data": {
            "text/html": [
              "<div>\n",
              "<style scoped>\n",
              "    .dataframe tbody tr th:only-of-type {\n",
              "        vertical-align: middle;\n",
              "    }\n",
              "\n",
              "    .dataframe tbody tr th {\n",
              "        vertical-align: top;\n",
              "    }\n",
              "\n",
              "    .dataframe thead th {\n",
              "        text-align: right;\n",
              "    }\n",
              "</style>\n",
              "<table border=\"1\" class=\"dataframe\">\n",
              "  <thead>\n",
              "    <tr style=\"text-align: right;\">\n",
              "      <th></th>\n",
              "      <th>Opening</th>\n",
              "      <th>Opening.1</th>\n",
              "      <th>Title</th>\n",
              "      <th>Director</th>\n",
              "      <th>Cast</th>\n",
              "      <th>Genre</th>\n",
              "      <th>Year</th>\n",
              "      <th>Source</th>\n",
              "      <th>Studio</th>\n",
              "      <th>Production house</th>\n",
              "    </tr>\n",
              "  </thead>\n",
              "  <tbody>\n",
              "    <tr>\n",
              "      <th>0</th>\n",
              "      <td>JAN</td>\n",
              "      <td>8.0</td>\n",
              "      <td>Dulha Mil Gaya</td>\n",
              "      <td>Muddassar Aziz</td>\n",
              "      <td>Fardeen Khan, Ishita Sharma, Sushmita Sen, Sha...</td>\n",
              "      <td>Romantic Comedy</td>\n",
              "      <td>2010</td>\n",
              "      <td>NaN</td>\n",
              "      <td>NaN</td>\n",
              "      <td>NaN</td>\n",
              "    </tr>\n",
              "    <tr>\n",
              "      <th>1</th>\n",
              "      <td>JAN</td>\n",
              "      <td>8.0</td>\n",
              "      <td>Pyaar Impossible!</td>\n",
              "      <td>Jugal Hansraj</td>\n",
              "      <td>Priyanka Chopra, Uday Chopra, Anupam Kher, Din...</td>\n",
              "      <td>Romantic Comedy</td>\n",
              "      <td>2010</td>\n",
              "      <td>NaN</td>\n",
              "      <td>NaN</td>\n",
              "      <td>NaN</td>\n",
              "    </tr>\n",
              "    <tr>\n",
              "      <th>2</th>\n",
              "      <td>JAN</td>\n",
              "      <td>15.0</td>\n",
              "      <td>Chance Pe Dance</td>\n",
              "      <td>Ken Ghosh</td>\n",
              "      <td>Shahid Kapoor, Genelia D'Souza</td>\n",
              "      <td>Romance] [Dance film|Dance</td>\n",
              "      <td>2010</td>\n",
              "      <td>NaN</td>\n",
              "      <td>NaN</td>\n",
              "      <td>NaN</td>\n",
              "    </tr>\n",
              "    <tr>\n",
              "      <th>3</th>\n",
              "      <td>JAN</td>\n",
              "      <td>15.0</td>\n",
              "      <td>Hello! Hum Lallan Bol Rahe Hain</td>\n",
              "      <td>Dileep Shukla</td>\n",
              "      <td>Rajpal Yadav, Preeti Mehra</td>\n",
              "      <td>Comedy</td>\n",
              "      <td>2010</td>\n",
              "      <td>NaN</td>\n",
              "      <td>NaN</td>\n",
              "      <td>NaN</td>\n",
              "    </tr>\n",
              "    <tr>\n",
              "      <th>4</th>\n",
              "      <td>JAN</td>\n",
              "      <td>22.0</td>\n",
              "      <td>Veer</td>\n",
              "      <td>Anil Sharma</td>\n",
              "      <td>Salman Khan, Zarine Khan, Mithun Chakraborty, ...</td>\n",
              "      <td>Epic Film</td>\n",
              "      <td>2010</td>\n",
              "      <td>NaN</td>\n",
              "      <td>NaN</td>\n",
              "      <td>NaN</td>\n",
              "    </tr>\n",
              "    <tr>\n",
              "      <th>5</th>\n",
              "      <td>JAN</td>\n",
              "      <td>29.0</td>\n",
              "      <td>Ishqiya</td>\n",
              "      <td>Abhishek Chaubey</td>\n",
              "      <td>Naseeruddin Shah, Vidya Balan, Arshad Warsi</td>\n",
              "      <td>Black Comedy, Romance</td>\n",
              "      <td>2010</td>\n",
              "      <td>NaN</td>\n",
              "      <td>NaN</td>\n",
              "      <td>NaN</td>\n",
              "    </tr>\n",
              "    <tr>\n",
              "      <th>6</th>\n",
              "      <td>JAN</td>\n",
              "      <td>29.0</td>\n",
              "      <td>Rann</td>\n",
              "      <td>Ram Gopal Varma</td>\n",
              "      <td>Amitabh Bachchan, Sudeep, Ritesh Deshmukh, Par...</td>\n",
              "      <td>Drama Thriller</td>\n",
              "      <td>2010</td>\n",
              "      <td>NaN</td>\n",
              "      <td>NaN</td>\n",
              "      <td>NaN</td>\n",
              "    </tr>\n",
              "  </tbody>\n",
              "</table>\n",
              "</div>"
            ],
            "text/plain": [
              "  Opening Opening.1  ... Studio Production house\n",
              "0     JAN       8.0  ...    NaN              NaN\n",
              "1     JAN       8.0  ...    NaN              NaN\n",
              "2     JAN      15.0  ...    NaN              NaN\n",
              "3     JAN      15.0  ...    NaN              NaN\n",
              "4     JAN      22.0  ...    NaN              NaN\n",
              "5     JAN      29.0  ...    NaN              NaN\n",
              "6     JAN      29.0  ...    NaN              NaN\n",
              "\n",
              "[7 rows x 10 columns]"
            ]
          },
          "metadata": {
            "tags": []
          },
          "execution_count": 16
        }
      ]
    },
    {
      "cell_type": "code",
      "metadata": {
        "id": "SSuLH7TDHqSR"
      },
      "source": [
        "df_2010s['Title'] = df_2010s['Title'].str.lower()"
      ],
      "execution_count": 17,
      "outputs": []
    },
    {
      "cell_type": "code",
      "metadata": {
        "id": "VqG-pPDinjkl",
        "outputId": "6b7e0ac1-8456-4018-f96d-9b68b4435140",
        "colab": {
          "base_uri": "https://localhost:8080/",
          "height": 208
        }
      },
      "source": [
        "df_2010s.isnull().sum()"
      ],
      "execution_count": 18,
      "outputs": [
        {
          "output_type": "execute_result",
          "data": {
            "text/plain": [
              "Opening                0\n",
              "Opening.1             24\n",
              "Title                 27\n",
              "Director              28\n",
              "Cast                  32\n",
              "Genre                254\n",
              "Year                   0\n",
              "Source               919\n",
              "Studio               948\n",
              "Production house    1087\n",
              "dtype: int64"
            ]
          },
          "metadata": {
            "tags": []
          },
          "execution_count": 18
        }
      ]
    },
    {
      "cell_type": "code",
      "metadata": {
        "id": "je5q15AM0Gfp"
      },
      "source": [
        "df_2010s.dropna(subset=['Title'],inplace=True)"
      ],
      "execution_count": 19,
      "outputs": []
    },
    {
      "cell_type": "code",
      "metadata": {
        "id": "BzGZ9LlA0eHN",
        "outputId": "369e0dfd-d7e0-4f31-edeb-eb2a91ec209a",
        "colab": {
          "base_uri": "https://localhost:8080/",
          "height": 208
        }
      },
      "source": [
        "df_2010s.isnull().sum()"
      ],
      "execution_count": 20,
      "outputs": [
        {
          "output_type": "execute_result",
          "data": {
            "text/plain": [
              "Opening                0\n",
              "Opening.1              0\n",
              "Title                  0\n",
              "Director               1\n",
              "Cast                   5\n",
              "Genre                227\n",
              "Year                   0\n",
              "Source               892\n",
              "Studio               921\n",
              "Production house    1060\n",
              "dtype: int64"
            ]
          },
          "metadata": {
            "tags": []
          },
          "execution_count": 20
        }
      ]
    },
    {
      "cell_type": "code",
      "metadata": {
        "id": "Ta0c6UR1xLAZ"
      },
      "source": [
        "def listToString(list):\n",
        "    str1 = \" \"\n",
        "    return (str1.join(list))"
      ],
      "execution_count": 21,
      "outputs": []
    },
    {
      "cell_type": "code",
      "metadata": {
        "id": "7-7B2sspJ1H4",
        "outputId": "e87355c0-fe2a-4b90-9f4f-ef2b9962a1df",
        "colab": {
          "base_uri": "https://localhost:8080/",
          "height": 35
        }
      },
      "source": [
        "df_2010s.shape"
      ],
      "execution_count": 22,
      "outputs": [
        {
          "output_type": "execute_result",
          "data": {
            "text/plain": [
              "(1163, 10)"
            ]
          },
          "metadata": {
            "tags": []
          },
          "execution_count": 22
        }
      ]
    },
    {
      "cell_type": "code",
      "metadata": {
        "id": "ceCP2u1hr_8d"
      },
      "source": [
        "def get_genres(row):\n",
        "  io = imdb.IMDb()\n",
        "  search=io.search_movie(row['Title'])\n",
        "\n",
        "  for i in range(len(search)):\n",
        "    try:\n",
        "      if search[i]['year']==row['Year']:\n",
        "        id=search[i].movieID\n",
        "        movie=io.get_movie(id)\n",
        "        return listToString(movie['genres'])\n",
        "    except KeyError:\n",
        "      None"
      ],
      "execution_count": 23,
      "outputs": []
    },
    {
      "cell_type": "code",
      "metadata": {
        "id": "jfV11414Cvpj"
      },
      "source": [
        "df_2010s['Genres'] = df_2010s.apply(lambda x : get_genres(x),axis=1)"
      ],
      "execution_count": 24,
      "outputs": []
    },
    {
      "cell_type": "code",
      "metadata": {
        "id": "qM3g7ViaD13V",
        "outputId": "880e82cc-ec1f-49bd-8708-5a9099982fda",
        "colab": {
          "base_uri": "https://localhost:8080/",
          "height": 306
        }
      },
      "source": [
        "df_2010s.head()"
      ],
      "execution_count": 25,
      "outputs": [
        {
          "output_type": "execute_result",
          "data": {
            "text/html": [
              "<div>\n",
              "<style scoped>\n",
              "    .dataframe tbody tr th:only-of-type {\n",
              "        vertical-align: middle;\n",
              "    }\n",
              "\n",
              "    .dataframe tbody tr th {\n",
              "        vertical-align: top;\n",
              "    }\n",
              "\n",
              "    .dataframe thead th {\n",
              "        text-align: right;\n",
              "    }\n",
              "</style>\n",
              "<table border=\"1\" class=\"dataframe\">\n",
              "  <thead>\n",
              "    <tr style=\"text-align: right;\">\n",
              "      <th></th>\n",
              "      <th>Opening</th>\n",
              "      <th>Opening.1</th>\n",
              "      <th>Title</th>\n",
              "      <th>Director</th>\n",
              "      <th>Cast</th>\n",
              "      <th>Genre</th>\n",
              "      <th>Year</th>\n",
              "      <th>Source</th>\n",
              "      <th>Studio</th>\n",
              "      <th>Production house</th>\n",
              "      <th>Genres</th>\n",
              "    </tr>\n",
              "  </thead>\n",
              "  <tbody>\n",
              "    <tr>\n",
              "      <th>0</th>\n",
              "      <td>JAN</td>\n",
              "      <td>8.0</td>\n",
              "      <td>dulha mil gaya</td>\n",
              "      <td>Muddassar Aziz</td>\n",
              "      <td>Fardeen Khan, Ishita Sharma, Sushmita Sen, Sha...</td>\n",
              "      <td>Romantic Comedy</td>\n",
              "      <td>2010</td>\n",
              "      <td>NaN</td>\n",
              "      <td>NaN</td>\n",
              "      <td>NaN</td>\n",
              "      <td>Comedy Drama Romance</td>\n",
              "    </tr>\n",
              "    <tr>\n",
              "      <th>1</th>\n",
              "      <td>JAN</td>\n",
              "      <td>8.0</td>\n",
              "      <td>pyaar impossible!</td>\n",
              "      <td>Jugal Hansraj</td>\n",
              "      <td>Priyanka Chopra, Uday Chopra, Anupam Kher, Din...</td>\n",
              "      <td>Romantic Comedy</td>\n",
              "      <td>2010</td>\n",
              "      <td>NaN</td>\n",
              "      <td>NaN</td>\n",
              "      <td>NaN</td>\n",
              "      <td>Comedy Romance</td>\n",
              "    </tr>\n",
              "    <tr>\n",
              "      <th>2</th>\n",
              "      <td>JAN</td>\n",
              "      <td>15.0</td>\n",
              "      <td>chance pe dance</td>\n",
              "      <td>Ken Ghosh</td>\n",
              "      <td>Shahid Kapoor, Genelia D'Souza</td>\n",
              "      <td>Romance] [Dance film|Dance</td>\n",
              "      <td>2010</td>\n",
              "      <td>NaN</td>\n",
              "      <td>NaN</td>\n",
              "      <td>NaN</td>\n",
              "      <td>Comedy Drama Music</td>\n",
              "    </tr>\n",
              "    <tr>\n",
              "      <th>3</th>\n",
              "      <td>JAN</td>\n",
              "      <td>15.0</td>\n",
              "      <td>hello! hum lallan bol rahe hain</td>\n",
              "      <td>Dileep Shukla</td>\n",
              "      <td>Rajpal Yadav, Preeti Mehra</td>\n",
              "      <td>Comedy</td>\n",
              "      <td>2010</td>\n",
              "      <td>NaN</td>\n",
              "      <td>NaN</td>\n",
              "      <td>NaN</td>\n",
              "      <td>Comedy Drama</td>\n",
              "    </tr>\n",
              "    <tr>\n",
              "      <th>4</th>\n",
              "      <td>JAN</td>\n",
              "      <td>22.0</td>\n",
              "      <td>veer</td>\n",
              "      <td>Anil Sharma</td>\n",
              "      <td>Salman Khan, Zarine Khan, Mithun Chakraborty, ...</td>\n",
              "      <td>Epic Film</td>\n",
              "      <td>2010</td>\n",
              "      <td>NaN</td>\n",
              "      <td>NaN</td>\n",
              "      <td>NaN</td>\n",
              "      <td>Action Adventure Drama Romance</td>\n",
              "    </tr>\n",
              "  </tbody>\n",
              "</table>\n",
              "</div>"
            ],
            "text/plain": [
              "  Opening Opening.1  ... Production house                          Genres\n",
              "0     JAN       8.0  ...              NaN            Comedy Drama Romance\n",
              "1     JAN       8.0  ...              NaN                  Comedy Romance\n",
              "2     JAN      15.0  ...              NaN              Comedy Drama Music\n",
              "3     JAN      15.0  ...              NaN                    Comedy Drama\n",
              "4     JAN      22.0  ...              NaN  Action Adventure Drama Romance\n",
              "\n",
              "[5 rows x 11 columns]"
            ]
          },
          "metadata": {
            "tags": []
          },
          "execution_count": 25
        }
      ]
    },
    {
      "cell_type": "code",
      "metadata": {
        "id": "VRhqWnDlLlYe",
        "outputId": "1aa90b9e-8b00-4c53-b924-419cba1bf1e0",
        "colab": {
          "base_uri": "https://localhost:8080/",
          "height": 225
        }
      },
      "source": [
        "df_2010s.isnull().sum()"
      ],
      "execution_count": 26,
      "outputs": [
        {
          "output_type": "execute_result",
          "data": {
            "text/plain": [
              "Opening                0\n",
              "Opening.1              0\n",
              "Title                  0\n",
              "Director               1\n",
              "Cast                   5\n",
              "Genre                227\n",
              "Year                   0\n",
              "Source               892\n",
              "Studio               921\n",
              "Production house    1060\n",
              "Genres                84\n",
              "dtype: int64"
            ]
          },
          "metadata": {
            "tags": []
          },
          "execution_count": 26
        }
      ]
    },
    {
      "cell_type": "code",
      "metadata": {
        "id": "nl7FYqbNSKHy"
      },
      "source": [
        "df_2010s.Genres.fillna(df_2010s.Genre,inplace=True)"
      ],
      "execution_count": 27,
      "outputs": []
    },
    {
      "cell_type": "code",
      "metadata": {
        "id": "syswagYcWy_q",
        "outputId": "8fe84320-8864-4ed1-b918-797c21a6e9d1",
        "colab": {
          "base_uri": "https://localhost:8080/",
          "height": 225
        }
      },
      "source": [
        "df_2010s.isnull().sum()"
      ],
      "execution_count": 28,
      "outputs": [
        {
          "output_type": "execute_result",
          "data": {
            "text/plain": [
              "Opening                0\n",
              "Opening.1              0\n",
              "Title                  0\n",
              "Director               1\n",
              "Cast                   5\n",
              "Genre                227\n",
              "Year                   0\n",
              "Source               892\n",
              "Studio               921\n",
              "Production house    1060\n",
              "Genres                13\n",
              "dtype: int64"
            ]
          },
          "metadata": {
            "tags": []
          },
          "execution_count": 28
        }
      ]
    },
    {
      "cell_type": "code",
      "metadata": {
        "id": "n5vMOSUGaBll",
        "outputId": "a2f3a355-81d0-45eb-d520-88605df15eba",
        "colab": {
          "base_uri": "https://localhost:8080/",
          "height": 811
        }
      },
      "source": [
        "df_2010s[df_2010s['Genres'].isnull()]"
      ],
      "execution_count": 40,
      "outputs": [
        {
          "output_type": "execute_result",
          "data": {
            "text/html": [
              "<div>\n",
              "<style scoped>\n",
              "    .dataframe tbody tr th:only-of-type {\n",
              "        vertical-align: middle;\n",
              "    }\n",
              "\n",
              "    .dataframe tbody tr th {\n",
              "        vertical-align: top;\n",
              "    }\n",
              "\n",
              "    .dataframe thead th {\n",
              "        text-align: right;\n",
              "    }\n",
              "</style>\n",
              "<table border=\"1\" class=\"dataframe\">\n",
              "  <thead>\n",
              "    <tr style=\"text-align: right;\">\n",
              "      <th></th>\n",
              "      <th>Opening</th>\n",
              "      <th>Opening.1</th>\n",
              "      <th>Title</th>\n",
              "      <th>Director</th>\n",
              "      <th>Cast</th>\n",
              "      <th>Genre</th>\n",
              "      <th>Year</th>\n",
              "      <th>Source</th>\n",
              "      <th>Studio</th>\n",
              "      <th>Production house</th>\n",
              "      <th>Genres</th>\n",
              "    </tr>\n",
              "  </thead>\n",
              "  <tbody>\n",
              "    <tr>\n",
              "      <th>961</th>\n",
              "      <td>JAN</td>\n",
              "      <td>12</td>\n",
              "      <td>mukkabaaz</td>\n",
              "      <td>Anurag Kashyap</td>\n",
              "      <td>Vineet Kumar SinghZoya HussainRavi KishanJimmy...</td>\n",
              "      <td>NaN</td>\n",
              "      <td>2018</td>\n",
              "      <td>NaN</td>\n",
              "      <td>NaN</td>\n",
              "      <td>Eros International, Colour Yellow Productions</td>\n",
              "      <td>NaN</td>\n",
              "    </tr>\n",
              "    <tr>\n",
              "      <th>966</th>\n",
              "      <td>JAN</td>\n",
              "      <td>19</td>\n",
              "      <td>union leader</td>\n",
              "      <td>Sanjay Patel</td>\n",
              "      <td>Rahul BhatTillotama Shome</td>\n",
              "      <td>NaN</td>\n",
              "      <td>2018</td>\n",
              "      <td>NaN</td>\n",
              "      <td>NaN</td>\n",
              "      <td>Dim Light Pictures</td>\n",
              "      <td>NaN</td>\n",
              "    </tr>\n",
              "    <tr>\n",
              "      <th>1015</th>\n",
              "      <td>AUG</td>\n",
              "      <td>3</td>\n",
              "      <td>brij mohan amar rahe!</td>\n",
              "      <td>Nikhil Bhatt</td>\n",
              "      <td>Arjun MathurNidhi SinghVijayant KohliSunny Hin...</td>\n",
              "      <td>NaN</td>\n",
              "      <td>2018</td>\n",
              "      <td>NaN</td>\n",
              "      <td>NaN</td>\n",
              "      <td>Yoodlee Films</td>\n",
              "      <td>NaN</td>\n",
              "    </tr>\n",
              "    <tr>\n",
              "      <th>1016</th>\n",
              "      <td>AUG</td>\n",
              "      <td>3</td>\n",
              "      <td>laxmi and tikli bomb</td>\n",
              "      <td>Aditya Kripalani</td>\n",
              "      <td>Vibhawari DeshpandeSuchitra PillaiChitraganda ...</td>\n",
              "      <td>NaN</td>\n",
              "      <td>2018</td>\n",
              "      <td>NaN</td>\n",
              "      <td>NaN</td>\n",
              "      <td>Mumba Devi Motion Pictures</td>\n",
              "      <td>NaN</td>\n",
              "    </tr>\n",
              "    <tr>\n",
              "      <th>1052</th>\n",
              "      <td>NOV</td>\n",
              "      <td>16</td>\n",
              "      <td>mohalla assi</td>\n",
              "      <td>Chandraprakash Dwivedi</td>\n",
              "      <td>Sunny DeolSakshi TanwarRavi KishanSaurabh Shuk...</td>\n",
              "      <td>NaN</td>\n",
              "      <td>2018</td>\n",
              "      <td>NaN</td>\n",
              "      <td>NaN</td>\n",
              "      <td>Crossword Entertainment Pvt. Ltd.</td>\n",
              "      <td>NaN</td>\n",
              "    </tr>\n",
              "    <tr>\n",
              "      <th>1063</th>\n",
              "      <td>JAN</td>\n",
              "      <td>4.0</td>\n",
              "      <td>salt bridge</td>\n",
              "      <td>Abhijit Deonath</td>\n",
              "      <td>Rajeev KhandelwalChelsie Preston CrayfordUsha ...</td>\n",
              "      <td>NaN</td>\n",
              "      <td>2019</td>\n",
              "      <td>NaN</td>\n",
              "      <td>NaN</td>\n",
              "      <td>NaN</td>\n",
              "      <td>NaN</td>\n",
              "    </tr>\n",
              "    <tr>\n",
              "      <th>1079</th>\n",
              "      <td>FEB</td>\n",
              "      <td>8.0</td>\n",
              "      <td>the fakir of venice</td>\n",
              "      <td>Anand Surapur</td>\n",
              "      <td>Farhan AkhtarAnnu Kapoor</td>\n",
              "      <td>NaN</td>\n",
              "      <td>2019</td>\n",
              "      <td>NaN</td>\n",
              "      <td>October Films, Phat Phish Motion Pictures</td>\n",
              "      <td>NaN</td>\n",
              "      <td>NaN</td>\n",
              "    </tr>\n",
              "    <tr>\n",
              "      <th>1085</th>\n",
              "      <td>MAR</td>\n",
              "      <td>1.0</td>\n",
              "      <td>goopi gawaiya bagha bajaiya</td>\n",
              "      <td>Shilpa Ranade</td>\n",
              "      <td>Manish BhawanRajeev RajShailendra Pande</td>\n",
              "      <td>NaN</td>\n",
              "      <td>2019</td>\n",
              "      <td>NaN</td>\n",
              "      <td>Paperboat Animation Studios, Children's Film S...</td>\n",
              "      <td>NaN</td>\n",
              "      <td>NaN</td>\n",
              "    </tr>\n",
              "    <tr>\n",
              "      <th>1094</th>\n",
              "      <td>MAR</td>\n",
              "      <td>15.0</td>\n",
              "      <td>mere pyare prime minister</td>\n",
              "      <td>Rakeysh Omprakash Mehra</td>\n",
              "      <td>Anjali PatilMakarand DeshpandeRasika AagasheSo...</td>\n",
              "      <td>NaN</td>\n",
              "      <td>2019</td>\n",
              "      <td>NaN</td>\n",
              "      <td>ROMP Pictures, Pen India Limited</td>\n",
              "      <td>NaN</td>\n",
              "      <td>NaN</td>\n",
              "    </tr>\n",
              "    <tr>\n",
              "      <th>1116</th>\n",
              "      <td>MAY</td>\n",
              "      <td>24.0</td>\n",
              "      <td>yeh hai india</td>\n",
              "      <td>Lomharsh</td>\n",
              "      <td>Gavie ChahalMohan AghasheMohan Joshi</td>\n",
              "      <td>NaN</td>\n",
              "      <td>2019</td>\n",
              "      <td>NaN</td>\n",
              "      <td>DLB FIlms</td>\n",
              "      <td>NaN</td>\n",
              "      <td>NaN</td>\n",
              "    </tr>\n",
              "    <tr>\n",
              "      <th>1120</th>\n",
              "      <td>JUN</td>\n",
              "      <td>21.0</td>\n",
              "      <td>jaoon kahan bata ae dil</td>\n",
              "      <td>Aadish Keluskar</td>\n",
              "      <td>Khushboo UpadhyayRohit Kokate</td>\n",
              "      <td>NaN</td>\n",
              "      <td>2019</td>\n",
              "      <td>NaN</td>\n",
              "      <td>Humara Movie, Netflix</td>\n",
              "      <td>NaN</td>\n",
              "      <td>NaN</td>\n",
              "    </tr>\n",
              "    <tr>\n",
              "      <th>1150</th>\n",
              "      <td>SEP</td>\n",
              "      <td>22.0</td>\n",
              "      <td>do paise ki dhoop, chaar aane ki baarish</td>\n",
              "      <td>Deepti Naval</td>\n",
              "      <td>Manisha KoiralaRajit KapurSanaj Naval</td>\n",
              "      <td>NaN</td>\n",
              "      <td>2019</td>\n",
              "      <td>NaN</td>\n",
              "      <td>Kite Films</td>\n",
              "      <td>NaN</td>\n",
              "      <td>NaN</td>\n",
              "    </tr>\n",
              "    <tr>\n",
              "      <th>1169</th>\n",
              "      <td>NOV</td>\n",
              "      <td>8.0</td>\n",
              "      <td>moothon[c]</td>\n",
              "      <td>Geetu Mohandas</td>\n",
              "      <td>Nivin PaulySanjana DipuShashank AroraSobhita D...</td>\n",
              "      <td>NaN</td>\n",
              "      <td>2019</td>\n",
              "      <td>NaN</td>\n",
              "      <td>Mini Studio, JAR Pictures</td>\n",
              "      <td>NaN</td>\n",
              "      <td>NaN</td>\n",
              "    </tr>\n",
              "  </tbody>\n",
              "</table>\n",
              "</div>"
            ],
            "text/plain": [
              "     Opening Opening.1  ...                               Production house Genres\n",
              "961      JAN        12  ...  Eros International, Colour Yellow Productions    NaN\n",
              "966      JAN        19  ...                             Dim Light Pictures    NaN\n",
              "1015     AUG         3  ...                                  Yoodlee Films    NaN\n",
              "1016     AUG         3  ...                     Mumba Devi Motion Pictures    NaN\n",
              "1052     NOV        16  ...              Crossword Entertainment Pvt. Ltd.    NaN\n",
              "1063     JAN       4.0  ...                                            NaN    NaN\n",
              "1079     FEB       8.0  ...                                            NaN    NaN\n",
              "1085     MAR       1.0  ...                                            NaN    NaN\n",
              "1094     MAR      15.0  ...                                            NaN    NaN\n",
              "1116     MAY      24.0  ...                                            NaN    NaN\n",
              "1120     JUN      21.0  ...                                            NaN    NaN\n",
              "1150     SEP      22.0  ...                                            NaN    NaN\n",
              "1169     NOV       8.0  ...                                            NaN    NaN\n",
              "\n",
              "[13 rows x 11 columns]"
            ]
          },
          "metadata": {
            "tags": []
          },
          "execution_count": 40
        }
      ]
    },
    {
      "cell_type": "code",
      "metadata": {
        "id": "03ZEsh7m33Y_"
      },
      "source": [
        "df_2010s['Genres'] = df_2010s['Genres'].fillna(value=' ')"
      ],
      "execution_count": 41,
      "outputs": []
    },
    {
      "cell_type": "code",
      "metadata": {
        "id": "kS5RJvEA4aj5",
        "outputId": "6cd93bf0-0127-4876-f58c-c52db6857983",
        "colab": {
          "base_uri": "https://localhost:8080/",
          "height": 225
        }
      },
      "source": [
        "df_2010s.isnull().sum()"
      ],
      "execution_count": 42,
      "outputs": [
        {
          "output_type": "execute_result",
          "data": {
            "text/plain": [
              "Opening                0\n",
              "Opening.1              0\n",
              "Title                  0\n",
              "Director               1\n",
              "Cast                   5\n",
              "Genre                227\n",
              "Year                   0\n",
              "Source               892\n",
              "Studio               921\n",
              "Production house    1060\n",
              "Genres                 0\n",
              "dtype: int64"
            ]
          },
          "metadata": {
            "tags": []
          },
          "execution_count": 42
        }
      ]
    },
    {
      "cell_type": "code",
      "metadata": {
        "id": "VQTb_WR4D9eO"
      },
      "source": [
        "def get_rating(row):\n",
        "  io = imdb.IMDb()\n",
        "  search=io.search_movie(row['Title'])\n",
        "\n",
        "  for i in range(len(search)):\n",
        "    try:\n",
        "      if search[i]['year']==row['Year']:\n",
        "        id=search[i].movieID\n",
        "        movie=io.get_movie(id)\n",
        "        return movie['rating']\n",
        "    except KeyError:\n",
        "      None"
      ],
      "execution_count": 43,
      "outputs": []
    },
    {
      "cell_type": "code",
      "metadata": {
        "id": "C2LXNBvuESpx"
      },
      "source": [
        "df_2010s['Rating'] = df_2010s.apply(lambda x : get_rating(x),axis=1)"
      ],
      "execution_count": 44,
      "outputs": []
    },
    {
      "cell_type": "code",
      "metadata": {
        "id": "o869On9QsrNt",
        "outputId": "4367f1da-fb8f-4049-a998-b19c0ee729bf",
        "colab": {
          "base_uri": "https://localhost:8080/",
          "height": 358
        }
      },
      "source": [
        "df_2010s.head()"
      ],
      "execution_count": 45,
      "outputs": [
        {
          "output_type": "execute_result",
          "data": {
            "text/html": [
              "<div>\n",
              "<style scoped>\n",
              "    .dataframe tbody tr th:only-of-type {\n",
              "        vertical-align: middle;\n",
              "    }\n",
              "\n",
              "    .dataframe tbody tr th {\n",
              "        vertical-align: top;\n",
              "    }\n",
              "\n",
              "    .dataframe thead th {\n",
              "        text-align: right;\n",
              "    }\n",
              "</style>\n",
              "<table border=\"1\" class=\"dataframe\">\n",
              "  <thead>\n",
              "    <tr style=\"text-align: right;\">\n",
              "      <th></th>\n",
              "      <th>Opening</th>\n",
              "      <th>Opening.1</th>\n",
              "      <th>Title</th>\n",
              "      <th>Director</th>\n",
              "      <th>Cast</th>\n",
              "      <th>Genre</th>\n",
              "      <th>Year</th>\n",
              "      <th>Source</th>\n",
              "      <th>Studio</th>\n",
              "      <th>Production house</th>\n",
              "      <th>Genres</th>\n",
              "      <th>Rating</th>\n",
              "    </tr>\n",
              "  </thead>\n",
              "  <tbody>\n",
              "    <tr>\n",
              "      <th>0</th>\n",
              "      <td>JAN</td>\n",
              "      <td>8.0</td>\n",
              "      <td>dulha mil gaya</td>\n",
              "      <td>Muddassar Aziz</td>\n",
              "      <td>Fardeen Khan, Ishita Sharma, Sushmita Sen, Sha...</td>\n",
              "      <td>Romantic Comedy</td>\n",
              "      <td>2010</td>\n",
              "      <td>NaN</td>\n",
              "      <td>NaN</td>\n",
              "      <td>NaN</td>\n",
              "      <td>Comedy Drama Romance</td>\n",
              "      <td>4.2</td>\n",
              "    </tr>\n",
              "    <tr>\n",
              "      <th>1</th>\n",
              "      <td>JAN</td>\n",
              "      <td>8.0</td>\n",
              "      <td>pyaar impossible!</td>\n",
              "      <td>Jugal Hansraj</td>\n",
              "      <td>Priyanka Chopra, Uday Chopra, Anupam Kher, Din...</td>\n",
              "      <td>Romantic Comedy</td>\n",
              "      <td>2010</td>\n",
              "      <td>NaN</td>\n",
              "      <td>NaN</td>\n",
              "      <td>NaN</td>\n",
              "      <td>Comedy Romance</td>\n",
              "      <td>4.6</td>\n",
              "    </tr>\n",
              "    <tr>\n",
              "      <th>2</th>\n",
              "      <td>JAN</td>\n",
              "      <td>15.0</td>\n",
              "      <td>chance pe dance</td>\n",
              "      <td>Ken Ghosh</td>\n",
              "      <td>Shahid Kapoor, Genelia D'Souza</td>\n",
              "      <td>Romance] [Dance film|Dance</td>\n",
              "      <td>2010</td>\n",
              "      <td>NaN</td>\n",
              "      <td>NaN</td>\n",
              "      <td>NaN</td>\n",
              "      <td>Comedy Drama Music</td>\n",
              "      <td>4.7</td>\n",
              "    </tr>\n",
              "    <tr>\n",
              "      <th>3</th>\n",
              "      <td>JAN</td>\n",
              "      <td>15.0</td>\n",
              "      <td>hello! hum lallan bol rahe hain</td>\n",
              "      <td>Dileep Shukla</td>\n",
              "      <td>Rajpal Yadav, Preeti Mehra</td>\n",
              "      <td>Comedy</td>\n",
              "      <td>2010</td>\n",
              "      <td>NaN</td>\n",
              "      <td>NaN</td>\n",
              "      <td>NaN</td>\n",
              "      <td>Comedy Drama</td>\n",
              "      <td>6.3</td>\n",
              "    </tr>\n",
              "    <tr>\n",
              "      <th>4</th>\n",
              "      <td>JAN</td>\n",
              "      <td>22.0</td>\n",
              "      <td>veer</td>\n",
              "      <td>Anil Sharma</td>\n",
              "      <td>Salman Khan, Zarine Khan, Mithun Chakraborty, ...</td>\n",
              "      <td>Epic Film</td>\n",
              "      <td>2010</td>\n",
              "      <td>NaN</td>\n",
              "      <td>NaN</td>\n",
              "      <td>NaN</td>\n",
              "      <td>Action Adventure Drama Romance</td>\n",
              "      <td>4.5</td>\n",
              "    </tr>\n",
              "  </tbody>\n",
              "</table>\n",
              "</div>"
            ],
            "text/plain": [
              "  Opening Opening.1  ...                          Genres Rating\n",
              "0     JAN       8.0  ...            Comedy Drama Romance    4.2\n",
              "1     JAN       8.0  ...                  Comedy Romance    4.6\n",
              "2     JAN      15.0  ...              Comedy Drama Music    4.7\n",
              "3     JAN      15.0  ...                    Comedy Drama    6.3\n",
              "4     JAN      22.0  ...  Action Adventure Drama Romance    4.5\n",
              "\n",
              "[5 rows x 12 columns]"
            ]
          },
          "metadata": {
            "tags": []
          },
          "execution_count": 45
        }
      ]
    },
    {
      "cell_type": "code",
      "metadata": {
        "id": "CGa2IdbmLOV4"
      },
      "source": [
        "df_2010s['Director'] = df_2010s['Director'].fillna(value=' ')\n",
        "df_2010s['Cast'] = df_2010s['Cast'].fillna(value=' ')"
      ],
      "execution_count": 53,
      "outputs": []
    },
    {
      "cell_type": "code",
      "metadata": {
        "id": "CaOAxp12GPIp"
      },
      "source": [
        "import re\n",
        "\n",
        "def combine_feature(row):\n",
        "  comb = row['Director']+' '+row['Cast']+' '+row['Genres']\n",
        "  lst=re.findall('.[^A-Z]*', comb)\n",
        "  convertedStr = listToString(lst)\n",
        "  return convertedStr.replace('  ',' ')\n"
      ],
      "execution_count": 55,
      "outputs": []
    },
    {
      "cell_type": "code",
      "metadata": {
        "id": "EGCYD4csDWuA",
        "outputId": "675d8ffe-0bd5-42e9-a09f-5ae8142683fd",
        "colab": {
          "base_uri": "https://localhost:8080/",
          "height": 243
        }
      },
      "source": [
        "df_2010s.isnull().sum()"
      ],
      "execution_count": 54,
      "outputs": [
        {
          "output_type": "execute_result",
          "data": {
            "text/plain": [
              "Opening                0\n",
              "Opening.1              0\n",
              "Title                  0\n",
              "Director               0\n",
              "Cast                   0\n",
              "Genre                227\n",
              "Year                   0\n",
              "Source               892\n",
              "Studio               921\n",
              "Production house    1060\n",
              "Genres                 0\n",
              "Rating               118\n",
              "dtype: int64"
            ]
          },
          "metadata": {
            "tags": []
          },
          "execution_count": 54
        }
      ]
    },
    {
      "cell_type": "code",
      "metadata": {
        "id": "dtm7rWu1GjBn"
      },
      "source": [
        "df_2010s['Combined'] = df_2010s.apply(lambda x: combine_feature(x),axis=1)"
      ],
      "execution_count": 56,
      "outputs": []
    },
    {
      "cell_type": "code",
      "metadata": {
        "id": "IAUeds1DH5kN",
        "outputId": "b2e8d18d-e96e-4d16-f371-8269be71346b",
        "colab": {
          "base_uri": "https://localhost:8080/",
          "height": 618
        }
      },
      "source": [
        "df_2010s.head()"
      ],
      "execution_count": 57,
      "outputs": [
        {
          "output_type": "execute_result",
          "data": {
            "text/html": [
              "<div>\n",
              "<style scoped>\n",
              "    .dataframe tbody tr th:only-of-type {\n",
              "        vertical-align: middle;\n",
              "    }\n",
              "\n",
              "    .dataframe tbody tr th {\n",
              "        vertical-align: top;\n",
              "    }\n",
              "\n",
              "    .dataframe thead th {\n",
              "        text-align: right;\n",
              "    }\n",
              "</style>\n",
              "<table border=\"1\" class=\"dataframe\">\n",
              "  <thead>\n",
              "    <tr style=\"text-align: right;\">\n",
              "      <th></th>\n",
              "      <th>Opening</th>\n",
              "      <th>Opening.1</th>\n",
              "      <th>Title</th>\n",
              "      <th>Director</th>\n",
              "      <th>Cast</th>\n",
              "      <th>Genre</th>\n",
              "      <th>Year</th>\n",
              "      <th>Source</th>\n",
              "      <th>Studio</th>\n",
              "      <th>Production house</th>\n",
              "      <th>Genres</th>\n",
              "      <th>Rating</th>\n",
              "      <th>Combined</th>\n",
              "    </tr>\n",
              "  </thead>\n",
              "  <tbody>\n",
              "    <tr>\n",
              "      <th>0</th>\n",
              "      <td>JAN</td>\n",
              "      <td>8.0</td>\n",
              "      <td>dulha mil gaya</td>\n",
              "      <td>Muddassar Aziz</td>\n",
              "      <td>Fardeen Khan, Ishita Sharma, Sushmita Sen, Sha...</td>\n",
              "      <td>Romantic Comedy</td>\n",
              "      <td>2010</td>\n",
              "      <td>NaN</td>\n",
              "      <td>NaN</td>\n",
              "      <td>NaN</td>\n",
              "      <td>Comedy Drama Romance</td>\n",
              "      <td>4.2</td>\n",
              "      <td>Muddassar Aziz Fardeen Khan, Ishita Sharma, Su...</td>\n",
              "    </tr>\n",
              "    <tr>\n",
              "      <th>1</th>\n",
              "      <td>JAN</td>\n",
              "      <td>8.0</td>\n",
              "      <td>pyaar impossible!</td>\n",
              "      <td>Jugal Hansraj</td>\n",
              "      <td>Priyanka Chopra, Uday Chopra, Anupam Kher, Din...</td>\n",
              "      <td>Romantic Comedy</td>\n",
              "      <td>2010</td>\n",
              "      <td>NaN</td>\n",
              "      <td>NaN</td>\n",
              "      <td>NaN</td>\n",
              "      <td>Comedy Romance</td>\n",
              "      <td>4.6</td>\n",
              "      <td>Jugal Hansraj Priyanka Chopra, Uday Chopra, An...</td>\n",
              "    </tr>\n",
              "    <tr>\n",
              "      <th>2</th>\n",
              "      <td>JAN</td>\n",
              "      <td>15.0</td>\n",
              "      <td>chance pe dance</td>\n",
              "      <td>Ken Ghosh</td>\n",
              "      <td>Shahid Kapoor, Genelia D'Souza</td>\n",
              "      <td>Romance] [Dance film|Dance</td>\n",
              "      <td>2010</td>\n",
              "      <td>NaN</td>\n",
              "      <td>NaN</td>\n",
              "      <td>NaN</td>\n",
              "      <td>Comedy Drama Music</td>\n",
              "      <td>4.7</td>\n",
              "      <td>Ken Ghosh Shahid Kapoor, Genelia D' Souza Come...</td>\n",
              "    </tr>\n",
              "    <tr>\n",
              "      <th>3</th>\n",
              "      <td>JAN</td>\n",
              "      <td>15.0</td>\n",
              "      <td>hello! hum lallan bol rahe hain</td>\n",
              "      <td>Dileep Shukla</td>\n",
              "      <td>Rajpal Yadav, Preeti Mehra</td>\n",
              "      <td>Comedy</td>\n",
              "      <td>2010</td>\n",
              "      <td>NaN</td>\n",
              "      <td>NaN</td>\n",
              "      <td>NaN</td>\n",
              "      <td>Comedy Drama</td>\n",
              "      <td>6.3</td>\n",
              "      <td>Dileep Shukla Rajpal Yadav, Preeti Mehra Comed...</td>\n",
              "    </tr>\n",
              "    <tr>\n",
              "      <th>4</th>\n",
              "      <td>JAN</td>\n",
              "      <td>22.0</td>\n",
              "      <td>veer</td>\n",
              "      <td>Anil Sharma</td>\n",
              "      <td>Salman Khan, Zarine Khan, Mithun Chakraborty, ...</td>\n",
              "      <td>Epic Film</td>\n",
              "      <td>2010</td>\n",
              "      <td>NaN</td>\n",
              "      <td>NaN</td>\n",
              "      <td>NaN</td>\n",
              "      <td>Action Adventure Drama Romance</td>\n",
              "      <td>4.5</td>\n",
              "      <td>Anil Sharma Salman Khan, Zarine Khan, Mithun C...</td>\n",
              "    </tr>\n",
              "  </tbody>\n",
              "</table>\n",
              "</div>"
            ],
            "text/plain": [
              "  Opening Opening.1  ... Rating                                           Combined\n",
              "0     JAN       8.0  ...    4.2  Muddassar Aziz Fardeen Khan, Ishita Sharma, Su...\n",
              "1     JAN       8.0  ...    4.6  Jugal Hansraj Priyanka Chopra, Uday Chopra, An...\n",
              "2     JAN      15.0  ...    4.7  Ken Ghosh Shahid Kapoor, Genelia D' Souza Come...\n",
              "3     JAN      15.0  ...    6.3  Dileep Shukla Rajpal Yadav, Preeti Mehra Comed...\n",
              "4     JAN      22.0  ...    4.5  Anil Sharma Salman Khan, Zarine Khan, Mithun C...\n",
              "\n",
              "[5 rows x 13 columns]"
            ]
          },
          "metadata": {
            "tags": []
          },
          "execution_count": 57
        }
      ]
    },
    {
      "cell_type": "code",
      "metadata": {
        "id": "cbXGNW2wLUqT",
        "outputId": "e80fa6f3-8f56-4779-c462-f832442272a8",
        "colab": {
          "base_uri": "https://localhost:8080/",
          "height": 53
        }
      },
      "source": [
        "df_2010s['Combined'].loc[0]"
      ],
      "execution_count": 58,
      "outputs": [
        {
          "output_type": "execute_result",
          "data": {
            "application/vnd.google.colaboratory.intrinsic+json": {
              "type": "string"
            },
            "text/plain": [
              "'Muddassar Aziz Fardeen Khan, Ishita Sharma, Sushmita Sen, Shahrukh Khan, Tara Sharma, Anushka Manchanda, Mohit Chadda, Vivek Vaswani, Johnny Lever Comedy Drama Romance'"
            ]
          },
          "metadata": {
            "tags": []
          },
          "execution_count": 58
        }
      ]
    },
    {
      "cell_type": "code",
      "metadata": {
        "id": "jiT6XJd8N0Rs"
      },
      "source": [
        "df_2010s['Combined'] = df_2010s['Combined'].str.lower()"
      ],
      "execution_count": 59,
      "outputs": []
    },
    {
      "cell_type": "code",
      "metadata": {
        "id": "_tzvS9vpEQN1",
        "outputId": "3b3c525d-0ec9-42c1-8fd8-8367d3e79877",
        "colab": {
          "base_uri": "https://localhost:8080/",
          "height": 53
        }
      },
      "source": [
        "df_2010s['Combined'].loc[0]"
      ],
      "execution_count": 60,
      "outputs": [
        {
          "output_type": "execute_result",
          "data": {
            "application/vnd.google.colaboratory.intrinsic+json": {
              "type": "string"
            },
            "text/plain": [
              "'muddassar aziz fardeen khan, ishita sharma, sushmita sen, shahrukh khan, tara sharma, anushka manchanda, mohit chadda, vivek vaswani, johnny lever comedy drama romance'"
            ]
          },
          "metadata": {
            "tags": []
          },
          "execution_count": 60
        }
      ]
    },
    {
      "cell_type": "code",
      "metadata": {
        "id": "NyvK9QdBEa1y"
      },
      "source": [
        "df_2010s['Combined'] = df_2010s.Combined.str.replace(',','')"
      ],
      "execution_count": 62,
      "outputs": []
    },
    {
      "cell_type": "code",
      "metadata": {
        "id": "6T_KLUebEuy3",
        "outputId": "6341e3a0-c04c-4a94-ecf9-a097bfeba9b0",
        "colab": {
          "base_uri": "https://localhost:8080/",
          "height": 53
        }
      },
      "source": [
        "df_2010s['Combined'].loc[0]"
      ],
      "execution_count": 63,
      "outputs": [
        {
          "output_type": "execute_result",
          "data": {
            "application/vnd.google.colaboratory.intrinsic+json": {
              "type": "string"
            },
            "text/plain": [
              "'muddassar aziz fardeen khan ishita sharma sushmita sen shahrukh khan tara sharma anushka manchanda mohit chadda vivek vaswani johnny lever comedy drama romance'"
            ]
          },
          "metadata": {
            "tags": []
          },
          "execution_count": 63
        }
      ]
    },
    {
      "cell_type": "code",
      "metadata": {
        "id": "brxGZg8OLZh4"
      },
      "source": [
        "df_2010s.to_csv('processed_2010s.csv',index=False)"
      ],
      "execution_count": 64,
      "outputs": []
    },
    {
      "cell_type": "code",
      "metadata": {
        "id": "_g2ZkxB6MS7X"
      },
      "source": [
        ""
      ],
      "execution_count": null,
      "outputs": []
    }
  ]
}