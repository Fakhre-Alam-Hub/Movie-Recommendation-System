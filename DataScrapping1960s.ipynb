{
  "nbformat": 4,
  "nbformat_minor": 0,
  "metadata": {
    "colab": {
      "name": "DataScrapping1950s.ipynb",
      "provenance": [],
      "mount_file_id": "1TWlvQJsRQmzsZ7spRVZekzTU4XbedRsF",
      "authorship_tag": "ABX9TyOIu3LCDjOn9jSDNarxapWb",
      "include_colab_link": true
    },
    "kernelspec": {
      "name": "python3",
      "display_name": "Python 3"
    }
  },
  "cells": [
    {
      "cell_type": "markdown",
      "metadata": {
        "id": "view-in-github",
        "colab_type": "text"
      },
      "source": [
        "<a href=\"https://colab.research.google.com/github/Fakhre-Alam-Hub/Movie-Recommendation-System/blob/main/DataScrapping1960s.ipynb\" target=\"_parent\"><img src=\"https://colab.research.google.com/assets/colab-badge.svg\" alt=\"Open In Colab\"/></a>"
      ]
    },
    {
      "cell_type": "markdown",
      "metadata": {
        "id": "b2jCT3bdNwUo"
      },
      "source": [
        "# Bollywood 1960s Movie Data Scrapping from Wikipedia"
      ]
    },
    {
      "cell_type": "code",
      "metadata": {
        "id": "iMOcZAbeIrDu"
      },
      "source": [
        "import pandas as pd\n",
        "import numpy as np"
      ],
      "execution_count": 34,
      "outputs": []
    },
    {
      "cell_type": "code",
      "metadata": {
        "id": "Y8Oo-mzfJRzP"
      },
      "source": [
        "link = \"https://en.wikipedia.org/wiki/List_of_Bollywood_films_of_1960\"\n",
        "df1 = pd.read_html(link, header=0)[2]\n",
        "df2 = pd.read_html(link, header=0)[3]\n",
        "df3 = pd.read_html(link, header=0)[4]\n",
        "\n",
        "df_1960 = df1.append(df2.append(df3,ignore_index=True),ignore_index=True)\n",
        "\n",
        "df_1960['Year'] = np.array(['1960']*df_1960.shape[0])"
      ],
      "execution_count": 37,
      "outputs": []
    },
    {
      "cell_type": "code",
      "metadata": {
        "id": "w_P-FKTVJ5ZC"
      },
      "source": [
        "link = \"https://en.wikipedia.org/wiki/List_of_Bollywood_films_of_1961\"\n",
        "df1 = pd.read_html(link, header=0)[2]\n",
        "df2 = pd.read_html(link, header=0)[3]\n",
        "df3 = pd.read_html(link, header=0)[4]\n",
        "\n",
        "df_1961 = df1.append(df2.append(df3,ignore_index=True),ignore_index=True)\n",
        "\n",
        "df_1961['Year'] = np.array(['1961']*df_1961.shape[0])"
      ],
      "execution_count": 39,
      "outputs": []
    },
    {
      "cell_type": "code",
      "metadata": {
        "id": "s4qESFW4KPM6"
      },
      "source": [
        "link = \"https://en.wikipedia.org/wiki/List_of_Bollywood_films_of_1962\"\n",
        "df1 = pd.read_html(link, header=0)[2]\n",
        "df2 = pd.read_html(link, header=0)[3]\n",
        "df3 = pd.read_html(link, header=0)[4]\n",
        "df4 = pd.read_html(link, header=0)[5]\n",
        "\n",
        "df_1962 = df1.append(df2.append(df3.append(df4,ignore_index=True),ignore_index=True),ignore_index=True)\n",
        "\n",
        "df_1962['Year'] = np.array(['1962']*df_1962.shape[0])"
      ],
      "execution_count": 40,
      "outputs": []
    },
    {
      "cell_type": "code",
      "metadata": {
        "id": "EmRKpFsYKiSo"
      },
      "source": [
        "link = \"https://en.wikipedia.org/wiki/List_of_Bollywood_films_of_1963\"\n",
        "df1 = pd.read_html(link, header=0)[2]\n",
        "df2 = pd.read_html(link, header=0)[3]\n",
        "df3 = pd.read_html(link, header=0)[4]\n",
        "df4 = pd.read_html(link, header=0)[5]\n",
        "df5 = pd.read_html(link, header=0)[6]\n",
        "df6 = pd.read_html(link, header=0)[7]\n",
        "\n",
        "df_1963 = df1.append(df2.append(df3.append(df4.append(df5.append(df6,ignore_index=True),ignore_index=True),ignore_index=True),ignore_index=True),ignore_index=True)\n",
        "\n",
        "df_1963['Year'] = np.array(['1963']*df_1963.shape[0])"
      ],
      "execution_count": 41,
      "outputs": []
    },
    {
      "cell_type": "code",
      "metadata": {
        "id": "ipq_iR06J8kH"
      },
      "source": [
        "link = \"https://en.wikipedia.org/wiki/List_of_Bollywood_films_of_1964\"\n",
        "df1 = pd.read_html(link, header=0)[2]\n",
        "df2 = pd.read_html(link, header=0)[3]\n",
        "df3 = pd.read_html(link, header=0)[4]\n",
        "df4 = pd.read_html(link, header=0)[5]\n",
        "df5 = pd.read_html(link, header=0)[6]\n",
        "\n",
        "df_1964 = df1.append(df2.append(df3.append(df4.append(df5,ignore_index=True),ignore_index=True),ignore_index=True),ignore_index=True)\n",
        "\n",
        "df_1964['Year'] = np.array(['1964']*df_1964.shape[0])"
      ],
      "execution_count": 42,
      "outputs": []
    },
    {
      "cell_type": "code",
      "metadata": {
        "id": "T3B1mj4gK67M"
      },
      "source": [
        "link = \"https://en.wikipedia.org/wiki/List_of_Bollywood_films_of_1965\"\n",
        "df1 = pd.read_html(link, header=0)[2]\n",
        "\n",
        "df_1965 = df1\n",
        "\n",
        "df_1965['Year'] = np.array(['1965']*df_1965.shape[0])"
      ],
      "execution_count": 43,
      "outputs": []
    },
    {
      "cell_type": "code",
      "metadata": {
        "id": "zusFEpS8K9iu"
      },
      "source": [
        "link = \"https://en.wikipedia.org/wiki/List_of_Bollywood_films_of_1966\"\n",
        "df1 = pd.read_html(link, header=0)[2]\n",
        "\n",
        "df_1966 = df1\n",
        "\n",
        "df_1966['Year'] = np.array(['1966']*df_1966.shape[0])"
      ],
      "execution_count": 44,
      "outputs": []
    },
    {
      "cell_type": "code",
      "metadata": {
        "id": "RIlbb_aHMNap"
      },
      "source": [
        "link = \"https://en.wikipedia.org/wiki/List_of_Bollywood_films_of_1967\"\n",
        "df1 = pd.read_html(link, header=0)[2]\n",
        "\n",
        "df_1967 = df1\n",
        "\n",
        "df_1967['Year'] = np.array(['1967']*df_1967.shape[0])"
      ],
      "execution_count": 45,
      "outputs": []
    },
    {
      "cell_type": "code",
      "metadata": {
        "id": "pPJWfA4XMT2Y"
      },
      "source": [
        "link = \"https://en.wikipedia.org/wiki/List_of_Bollywood_films_of_1968\"\n",
        "df1 = pd.read_html(link, header=0)[2]\n",
        "df2 = pd.read_html(link, header=0)[3]\n",
        "df3 = pd.read_html(link, header=0)[4]\n",
        "df4 = pd.read_html(link, header=0)[5]\n",
        "df5 = pd.read_html(link, header=0)[6]\n",
        "\n",
        "df_1968 = df1.append(df2.append(df3.append(df4.append(df5,ignore_index=True),ignore_index=True),ignore_index=True),ignore_index=True)\n",
        "\n",
        "df_1968['Year'] = np.array(['1968']*df_1968.shape[0])"
      ],
      "execution_count": 46,
      "outputs": []
    },
    {
      "cell_type": "code",
      "metadata": {
        "id": "liFekx6tMb2p"
      },
      "source": [
        "link = \"https://en.wikipedia.org/wiki/List_of_Bollywood_films_of_1969\"\n",
        "df1 = pd.read_html(link, header=0)[2]\n",
        "df2 = pd.read_html(link, header=0)[3]\n",
        "df3 = pd.read_html(link, header=0)[4]\n",
        "df4 = pd.read_html(link, header=0)[5]\n",
        "df5 = pd.read_html(link, header=0)[6]\n",
        "\n",
        "df_1969 = df1.append(df2.append(df3.append(df4.append(df5,ignore_index=True),ignore_index=True),ignore_index=True),ignore_index=True)\n",
        "\n",
        "df_1969['Year'] = np.array(['1969']*df_1969.shape[0])"
      ],
      "execution_count": 47,
      "outputs": []
    },
    {
      "cell_type": "code",
      "metadata": {
        "id": "KG6X0T-oMiUG"
      },
      "source": [
        "frames = [df_1960,df_1961,df_1962,df_1963,df_1964,df_1965,df_1966,df_1967,df_1968,df_1969]\n",
        "\n",
        "df_1960s = pd.concat(frames,ignore_index=True)"
      ],
      "execution_count": 48,
      "outputs": []
    },
    {
      "cell_type": "code",
      "metadata": {
        "id": "Xpjd1I_3MoDM"
      },
      "source": [
        "df_1960s.to_csv('1960s.csv', index = False) "
      ],
      "execution_count": 54,
      "outputs": []
    },
    {
      "cell_type": "code",
      "metadata": {
        "id": "Arvcdr_ZWyx3"
      },
      "source": [
        ""
      ],
      "execution_count": null,
      "outputs": []
    }
  ]
}