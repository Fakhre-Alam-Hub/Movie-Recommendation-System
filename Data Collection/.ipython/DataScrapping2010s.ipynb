{
  "nbformat": 4,
  "nbformat_minor": 0,
  "metadata": {
    "colab": {
      "name": "DataScrapping2010s.ipynb",
      "provenance": [],
      "collapsed_sections": [],
      "toc_visible": true,
      "mount_file_id": "1TWlvQJsRQmzsZ7spRVZekzTU4XbedRsF",
      "authorship_tag": "ABX9TyN+m5E3iE5SzAU9I+oh5OAv",
      "include_colab_link": true
    },
    "kernelspec": {
      "name": "python3",
      "display_name": "Python 3"
    }
  },
  "cells": [
    {
      "cell_type": "markdown",
      "metadata": {
        "id": "view-in-github",
        "colab_type": "text"
      },
      "source": [
        "<a href=\"https://colab.research.google.com/github/Fakhre-Alam-Hub/Movie-Recommendation-System/blob/main/Data%20Collection/.ipython/DataScrapping2010s.ipynb\" target=\"_parent\"><img src=\"https://colab.research.google.com/assets/colab-badge.svg\" alt=\"Open In Colab\"/></a>"
      ]
    },
    {
      "cell_type": "markdown",
      "metadata": {
        "id": "b2jCT3bdNwUo"
      },
      "source": [
        "# Bollywood 2010s Movie Data Scrapping from Wikipedia"
      ]
    },
    {
      "cell_type": "code",
      "metadata": {
        "id": "iMOcZAbeIrDu"
      },
      "source": [
        "import pandas as pd\n",
        "import numpy as np"
      ],
      "execution_count": 169,
      "outputs": []
    },
    {
      "cell_type": "code",
      "metadata": {
        "id": "Y8Oo-mzfJRzP"
      },
      "source": [
        "link = \"https://en.wikipedia.org/wiki/List_of_Bollywood_films_of_2010\"\n",
        "df1 = pd.read_html(link, header=0)[3]\n",
        "df2 = pd.read_html(link, header=0)[4]\n",
        "df3 = pd.read_html(link, header=0)[5]\n",
        "df4 = pd.read_html(link, header=0)[6]\n",
        "\n",
        "df_2010 = df1.append(df2.append(df3.append(df4,ignore_index=True),ignore_index=True),ignore_index=True)\n",
        "\n",
        "df_2010['Year'] = np.array(['2010']*df_2010.shape[0])"
      ],
      "execution_count": 170,
      "outputs": []
    },
    {
      "cell_type": "code",
      "metadata": {
        "id": "w_P-FKTVJ5ZC"
      },
      "source": [
        "link = \"https://en.wikipedia.org/wiki/List_of_Bollywood_films_of_2011\"\n",
        "df1 = pd.read_html(link, header=0)[2]\n",
        "df2 = pd.read_html(link, header=0)[3]\n",
        "df3 = pd.read_html(link, header=0)[4]\n",
        "df4 = pd.read_html(link, header=0)[5]\n",
        "\n",
        "df_2011 = df1.append(df2.append(df3.append(df4,ignore_index=True),ignore_index=True),ignore_index=True)\n",
        "\n",
        "df_2011['Year'] = np.array(['2011']*df_2011.shape[0])\n",
        "\n",
        "df_2011 = df_2011.drop(columns='Ref',axis=1)\n"
      ],
      "execution_count": 171,
      "outputs": []
    },
    {
      "cell_type": "code",
      "metadata": {
        "id": "JaBINqnVHGlE"
      },
      "source": [
        "# df1 = pd.read_html(link, header=0)[2]\n",
        "# df2 = pd.read_html(link, header=0)[3]\n",
        "# df3 = pd.read_html(link, header=0)[4]\n",
        "# df4 = pd.read_html(link, header=0)[5]\n",
        "# df5 = pd.read_html(link, header=0)[6]\n",
        "# df6 = pd.read_html(link, header=0)[7]\n",
        "\n",
        "# df_1963 = df1.append(df2.append(df3.append(df4.append(df5.append(df6,ignore_index=True)\n",
        "# ,ignore_index=True),ignore_index=True),ignore_index=True),ignore_index=True)\n"
      ],
      "execution_count": 172,
      "outputs": []
    },
    {
      "cell_type": "code",
      "metadata": {
        "id": "s4qESFW4KPM6"
      },
      "source": [
        "link = \"https://en.wikipedia.org/wiki/List_of_Bollywood_films_of_2012\"\n",
        "df1 = pd.read_html(link, header=0)[3]\n",
        "df2 = pd.read_html(link, header=0)[4]\n",
        "df3 = pd.read_html(link, header=0)[5]\n",
        "df4 = pd.read_html(link, header=0)[6]\n",
        "\n",
        "df_2012 = df1.append(df2.append(df3.append(df4,ignore_index=True),ignore_index=True),ignore_index=True)\n",
        "\n",
        "df_2012['Year'] = np.array(['2012']*df_2012.shape[0])\n"
      ],
      "execution_count": 173,
      "outputs": []
    },
    {
      "cell_type": "code",
      "metadata": {
        "id": "EmRKpFsYKiSo"
      },
      "source": [
        "link = \"https://en.wikipedia.org/wiki/List_of_Bollywood_films_of_2013\"\n",
        "df1 = pd.read_html(link, header=0)[2]\n",
        "df2 = pd.read_html(link, header=0)[3]\n",
        "df3 = pd.read_html(link, header=0)[4]\n",
        "df4 = pd.read_html(link, header=0)[5]\n",
        "\n",
        "df_2013 = df1.append(df2.append(df3.append(df4,ignore_index=True),ignore_index=True),ignore_index=True)\n",
        "\n",
        "df_2013['Year'] = np.array(['2013']*df_2013.shape[0])\n"
      ],
      "execution_count": 174,
      "outputs": []
    },
    {
      "cell_type": "code",
      "metadata": {
        "id": "ipq_iR06J8kH"
      },
      "source": [
        "link = \"https://en.wikipedia.org/wiki/List_of_Bollywood_films_of_2014\"\n",
        "df1 = pd.read_html(link, header=0)[2]\n",
        "df2 = pd.read_html(link, header=0)[3]\n",
        "df3 = pd.read_html(link, header=0)[4]\n",
        "df4 = pd.read_html(link, header=0)[5]\n",
        "\n",
        "df_2014 = df1.append(df2.append(df3.append(df4,ignore_index=True),ignore_index=True),ignore_index=True)\n",
        "\n",
        "df_2014['Year'] = np.array(['2014']*df_2014.shape[0])\n"
      ],
      "execution_count": 175,
      "outputs": []
    },
    {
      "cell_type": "code",
      "metadata": {
        "id": "T3B1mj4gK67M"
      },
      "source": [
        "link = \"https://en.wikipedia.org/wiki/List_of_Bollywood_films_of_2015\"\n",
        "df1 = pd.read_html(link, header=0)[2]\n",
        "df2 = pd.read_html(link, header=0)[3]\n",
        "df3 = pd.read_html(link, header=0)[4]\n",
        "df4 = pd.read_html(link, header=0)[5]\n",
        "\n",
        "df_2015 = df1.append(df2.append(df3.append(df4,ignore_index=True),ignore_index=True),ignore_index=True)\n",
        "\n",
        "df_2015['Year'] = np.array(['2015']*df_2015.shape[0])\n",
        "\n",
        "df_2015 = df_2015.drop(columns='Unnamed: 7',axis=1)"
      ],
      "execution_count": 176,
      "outputs": []
    },
    {
      "cell_type": "code",
      "metadata": {
        "id": "zusFEpS8K9iu"
      },
      "source": [
        "link = \"https://en.wikipedia.org/wiki/List_of_Bollywood_films_of_2016\"\n",
        "df1 = pd.read_html(link, header=0)[2]\n",
        "df2 = pd.read_html(link, header=0)[3]\n",
        "df3 = pd.read_html(link, header=0)[4]\n",
        "df4 = pd.read_html(link, header=0)[5]\n",
        "\n",
        "df_2016 = df1.append(df2.append(df3.append(df4,ignore_index=True),ignore_index=True),ignore_index=True)\n",
        "\n",
        "df_2016['Year'] = np.array(['2016']*df_2016.shape[0])\n",
        "\n",
        "df_2016 = df_2016.drop(columns=['Ref.'],axis=1)"
      ],
      "execution_count": 177,
      "outputs": []
    },
    {
      "cell_type": "code",
      "metadata": {
        "id": "RIlbb_aHMNap"
      },
      "source": [
        "link = \"https://en.wikipedia.org/wiki/List_of_Bollywood_films_of_2017\"\n",
        "df1 = pd.read_html(link, header=0)[2]\n",
        "df2 = pd.read_html(link, header=0)[3]\n",
        "df3 = pd.read_html(link, header=0)[4]\n",
        "df4 = pd.read_html(link, header=0)[5]\n",
        "\n",
        "df_2017 = df1.append(df2.append(df3.append(df4,ignore_index=True),ignore_index=True),ignore_index=True)\n",
        "\n",
        "df_2017['Year'] = np.array(['2017']*df_2017.shape[0])\n",
        "\n",
        "df_2017 = df_2017.drop(columns=['Ref.'],axis=1)"
      ],
      "execution_count": 178,
      "outputs": []
    },
    {
      "cell_type": "code",
      "metadata": {
        "id": "pPJWfA4XMT2Y"
      },
      "source": [
        "link = \"https://en.wikipedia.org/wiki/List_of_Bollywood_films_of_2018\"\n",
        "df1 = pd.read_html(link, header=0)[2]\n",
        "df2 = pd.read_html(link, header=0)[3]\n",
        "df3 = pd.read_html(link, header=0)[4]\n",
        "df4 = pd.read_html(link, header=0)[5]\n",
        "\n",
        "df_2018 = df1.append(df2.append(df3.append(df4,ignore_index=True),ignore_index=True),ignore_index=True)\n",
        "\n",
        "df_2018['Year'] = np.array(['2018']*df_2018.shape[0])\n",
        "\n",
        "df_2018 = df_2018.drop(columns=['Ref.'],axis=1)"
      ],
      "execution_count": 179,
      "outputs": []
    },
    {
      "cell_type": "code",
      "metadata": {
        "id": "liFekx6tMb2p"
      },
      "source": [
        "link = \"https://en.wikipedia.org/wiki/List_of_Bollywood_films_of_2019\"\n",
        "df1 = pd.read_html(link, header=0)[3]\n",
        "df2 = pd.read_html(link, header=0)[4]\n",
        "df3 = pd.read_html(link, header=0)[5]\n",
        "df4 = pd.read_html(link, header=0)[6]\n",
        "\n",
        "df_2019 = df1.append(df2.append(df3.append(df4,ignore_index=True),ignore_index=True),ignore_index=True)\n",
        "\n",
        "df_2019['Year'] = np.array(['2019']*df_2019.shape[0])\n",
        "\n",
        "df_2019 = df_2019.drop(columns=['Ref.'],axis=1)\n",
        "\n",
        "df_2019 = df_2019.rename(columns={'Studio (production house)':'Studio'})"
      ],
      "execution_count": 180,
      "outputs": []
    },
    {
      "cell_type": "code",
      "metadata": {
        "id": "KG6X0T-oMiUG"
      },
      "source": [
        "frames = [df_2010,df_2011,df_2012,df_2013,df_2014,df_2015,df_2016,df_2017,df_2018,df_2019]\n",
        "\n",
        "df_2010s = pd.concat(frames,ignore_index=True)"
      ],
      "execution_count": 181,
      "outputs": []
    },
    {
      "cell_type": "code",
      "metadata": {
        "id": "Xpjd1I_3MoDM"
      },
      "source": [
        "df_2010s.to_csv('2010s.csv', index = False) "
      ],
      "execution_count": 182,
      "outputs": []
    }
  ]
}