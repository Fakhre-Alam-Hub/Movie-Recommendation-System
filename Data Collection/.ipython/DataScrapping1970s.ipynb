{
  "nbformat": 4,
  "nbformat_minor": 0,
  "metadata": {
    "colab": {
      "name": "DataScrapping1970s.ipynb",
      "provenance": [],
      "collapsed_sections": [],
      "mount_file_id": "1TWlvQJsRQmzsZ7spRVZekzTU4XbedRsF",
      "authorship_tag": "ABX9TyNnfhywJiAbtClhzUwQQrUh",
      "include_colab_link": true
    },
    "kernelspec": {
      "name": "python3",
      "display_name": "Python 3"
    }
  },
  "cells": [
    {
      "cell_type": "markdown",
      "metadata": {
        "id": "view-in-github",
        "colab_type": "text"
      },
      "source": [
        "<a href=\"https://colab.research.google.com/github/Fakhre-Alam-Hub/Movie-Recommendation-System/blob/Data-Collection/DataScrapping1970s.ipynb\" target=\"_parent\"><img src=\"https://colab.research.google.com/assets/colab-badge.svg\" alt=\"Open In Colab\"/></a>"
      ]
    },
    {
      "cell_type": "markdown",
      "metadata": {
        "id": "b2jCT3bdNwUo"
      },
      "source": [
        "# Bollywood 1970s Movie Data Scrapping from Wikipedia"
      ]
    },
    {
      "cell_type": "code",
      "metadata": {
        "id": "iMOcZAbeIrDu"
      },
      "source": [
        "import pandas as pd\n",
        "import numpy as np"
      ],
      "execution_count": 2,
      "outputs": []
    },
    {
      "cell_type": "code",
      "metadata": {
        "id": "Y8Oo-mzfJRzP"
      },
      "source": [
        "link = \"https://en.wikipedia.org/wiki/List_of_Bollywood_films_of_1970\"\n",
        "df1 = pd.read_html(link, header=0)[2]\n",
        "\n",
        "df_1970 = df1\n",
        "df_1970['Year'] = np.array(['1970']*df_1970.shape[0])"
      ],
      "execution_count": 3,
      "outputs": []
    },
    {
      "cell_type": "code",
      "metadata": {
        "id": "w_P-FKTVJ5ZC"
      },
      "source": [
        "link = \"https://en.wikipedia.org/wiki/List_of_Bollywood_films_of_1971\"\n",
        "df1 = pd.read_html(link, header=0)[2]\n",
        "\n",
        "df_1971 = df1\n",
        "\n",
        "df_1971['Year'] = np.array(['1971']*df_1971.shape[0])"
      ],
      "execution_count": 4,
      "outputs": []
    },
    {
      "cell_type": "code",
      "metadata": {
        "id": "JaBINqnVHGlE"
      },
      "source": [
        "# df1 = pd.read_html(link, header=0)[2]\n",
        "# df2 = pd.read_html(link, header=0)[3]\n",
        "# df3 = pd.read_html(link, header=0)[4]\n",
        "# df4 = pd.read_html(link, header=0)[5]\n",
        "# df5 = pd.read_html(link, header=0)[6]\n",
        "# df6 = pd.read_html(link, header=0)[7]\n",
        "\n",
        "# df_1963 = df1.append(df2.append(df3.append(df4.append(df5.append(df6,ignore_index=True),ignore_index=True),ignore_index=True),ignore_index=True),ignore_index=True)\n"
      ],
      "execution_count": 5,
      "outputs": []
    },
    {
      "cell_type": "code",
      "metadata": {
        "id": "s4qESFW4KPM6"
      },
      "source": [
        "link = \"https://en.wikipedia.org/wiki/List_of_Bollywood_films_of_1972\"\n",
        "df1 = pd.read_html(link, header=0)[2]\n",
        "\n",
        "df_1972 = df1\n",
        "\n",
        "df_1972['Year'] = np.array(['1972']*df_1972.shape[0])"
      ],
      "execution_count": 6,
      "outputs": []
    },
    {
      "cell_type": "code",
      "metadata": {
        "id": "EmRKpFsYKiSo"
      },
      "source": [
        "link = \"https://en.wikipedia.org/wiki/List_of_Bollywood_films_of_1973\"\n",
        "df1 = pd.read_html(link, header=0)[2]\n",
        "\n",
        "df_1973 = df1\n",
        "\n",
        "\n",
        "df_1973['Year'] = np.array(['1973']*df_1973.shape[0])"
      ],
      "execution_count": 7,
      "outputs": []
    },
    {
      "cell_type": "code",
      "metadata": {
        "id": "ipq_iR06J8kH"
      },
      "source": [
        "link = \"https://en.wikipedia.org/wiki/List_of_Bollywood_films_of_1974\"\n",
        "df1 = pd.read_html(link, header=0)[2]\n",
        "\n",
        "df_1974 = df1\n",
        "\n",
        "df_1974['Year'] = np.array(['1974']*df_1974.shape[0])"
      ],
      "execution_count": 8,
      "outputs": []
    },
    {
      "cell_type": "code",
      "metadata": {
        "id": "T3B1mj4gK67M"
      },
      "source": [
        "link = \"https://en.wikipedia.org/wiki/List_of_Bollywood_films_of_1975\"\n",
        "df1 = pd.read_html(link, header=0)[2]\n",
        "\n",
        "df_1975 = df1\n",
        "\n",
        "df_1975['Year'] = np.array(['1975']*df_1975.shape[0])"
      ],
      "execution_count": 9,
      "outputs": []
    },
    {
      "cell_type": "code",
      "metadata": {
        "id": "zusFEpS8K9iu"
      },
      "source": [
        "link = \"https://en.wikipedia.org/wiki/List_of_Bollywood_films_of_1976\"\n",
        "df1 = pd.read_html(link, header=0)[2]\n",
        "\n",
        "df_1976 = df1\n",
        "\n",
        "df_1976['Year'] = np.array(['1976']*df_1976.shape[0])"
      ],
      "execution_count": 10,
      "outputs": []
    },
    {
      "cell_type": "code",
      "metadata": {
        "id": "RIlbb_aHMNap"
      },
      "source": [
        "link = \"https://en.wikipedia.org/wiki/List_of_Bollywood_films_of_1977\"\n",
        "df1 = pd.read_html(link, header=0)[2]\n",
        "\n",
        "df_1977 = df1\n",
        "\n",
        "df_1977['Year'] = np.array(['1977']*df_1977.shape[0])"
      ],
      "execution_count": 11,
      "outputs": []
    },
    {
      "cell_type": "code",
      "metadata": {
        "id": "pPJWfA4XMT2Y"
      },
      "source": [
        "link = \"https://en.wikipedia.org/wiki/List_of_Bollywood_films_of_1978\"\n",
        "df1 = pd.read_html(link, header=0)[2]\n",
        "\n",
        "df_1978 = df1\n",
        "\n",
        "df_1978['Year'] = np.array(['1978']*df_1978.shape[0])"
      ],
      "execution_count": 12,
      "outputs": []
    },
    {
      "cell_type": "code",
      "metadata": {
        "id": "liFekx6tMb2p"
      },
      "source": [
        "link = \"https://en.wikipedia.org/wiki/List_of_Bollywood_films_of_1979\"\n",
        "df1 = pd.read_html(link, header=0)[2]\n",
        "\n",
        "df_1979 = df1\n",
        "\n",
        "df_1979['Year'] = np.array(['1979']*df_1979.shape[0])"
      ],
      "execution_count": 13,
      "outputs": []
    },
    {
      "cell_type": "code",
      "metadata": {
        "id": "KG6X0T-oMiUG"
      },
      "source": [
        "frames = [df_1970,df_1971,df_1972,df_1973,df_1974,df_1975,df_1976,df_1977,df_1978,df_1979]\n",
        "\n",
        "df_1970s = pd.concat(frames,ignore_index=True)"
      ],
      "execution_count": 14,
      "outputs": []
    },
    {
      "cell_type": "code",
      "metadata": {
        "id": "Xpjd1I_3MoDM"
      },
      "source": [
        "df_1970s.to_csv('1970s.csv', index = False) "
      ],
      "execution_count": 15,
      "outputs": []
    }
  ]
}
