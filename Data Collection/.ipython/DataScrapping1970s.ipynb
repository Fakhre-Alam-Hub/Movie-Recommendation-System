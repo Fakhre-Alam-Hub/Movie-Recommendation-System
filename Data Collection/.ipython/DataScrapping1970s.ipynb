{
  "nbformat": 4,
  "nbformat_minor": 0,
  "metadata": {
    "colab": {
      "name": "DataScrapping1950s.ipynb",
      "provenance": [],
      "toc_visible": true,
      "mount_file_id": "1TWlvQJsRQmzsZ7spRVZekzTU4XbedRsF",
      "authorship_tag": "ABX9TyNeKVEmdw/W6G3+ZfZsblyF",
      "include_colab_link": true
    },
    "kernelspec": {
      "name": "python3",
      "display_name": "Python 3"
    }
  },
  "cells": [
    {
      "cell_type": "markdown",
      "metadata": {
        "id": "view-in-github",
        "colab_type": "text"
      },
      "source": [
        "<a href=\"https://colab.research.google.com/github/Fakhre-Alam-Hub/Movie-Recommendation-System/blob/main/Data%20Collection/.ipython/DataScrapping1970s.ipynb\" target=\"_parent\"><img src=\"https://colab.research.google.com/assets/colab-badge.svg\" alt=\"Open In Colab\"/></a>"
      ]
    },
    {
      "cell_type": "markdown",
      "metadata": {
        "id": "b2jCT3bdNwUo"
      },
      "source": [
        "# Bollywood 1970s Movie Data Scrapping from Wikipedia"
      ]
    },
    {
      "cell_type": "code",
      "metadata": {
        "id": "iMOcZAbeIrDu"
      },
      "source": [
        "import pandas as pd\n",
        "import numpy as np"
      ],
      "execution_count": 1,
      "outputs": []
    },
    {
      "cell_type": "code",
      "metadata": {
        "id": "Y8Oo-mzfJRzP"
      },
      "source": [
        "link = \"https://en.wikipedia.org/wiki/List_of_Bollywood_films_of_1970\"\n",
        "df1 = pd.read_html(link, header=0)[2]\n",
        "\n",
        "df_1970 = df1\n",
        "\n",
        "df_1970['Year'] = np.array(['1970']*df_1970.shape[0])"
      ],
      "execution_count": 49,
      "outputs": []
    },
    {
      "cell_type": "code",
      "metadata": {
        "id": "w_P-FKTVJ5ZC"
      },
      "source": [
        "link = \"https://en.wikipedia.org/wiki/List_of_Bollywood_films_of_1971\"\n",
        "df1 = pd.read_html(link, header=0)[2]\n",
        "\n",
        "\n",
        "df_1971 = df1\n",
        "\n",
        "df_1971['Year'] = np.array(['1971']*df_1971.shape[0])"
      ],
      "execution_count": 52,
      "outputs": []
    },
    {
      "cell_type": "code",
      "metadata": {
        "id": "s4qESFW4KPM6"
      },
      "source": [
        "link = \"https://en.wikipedia.org/wiki/List_of_Bollywood_films_of_1972\"\n",
        "df1 = pd.read_html(link, header=0)[2]\n",
        "\n",
        "df_1972 = df1\n",
        "\n",
        "df_1972['Year'] = np.array(['1972']*df_1972.shape[0])"
      ],
      "execution_count": 56,
      "outputs": []
    },
    {
      "cell_type": "code",
      "metadata": {
        "id": "EmRKpFsYKiSo"
      },
      "source": [
        "link = \"https://en.wikipedia.org/wiki/List_of_Bollywood_films_of_1973\"\n",
        "df1 = pd.read_html(link, header=0)[2]\n",
        "\n",
        "df_1973 = df1\n",
        "\n",
        "df_1973['Year'] = np.array(['1973']*df_1973.shape[0])"
      ],
      "execution_count": 60,
      "outputs": []
    },
    {
      "cell_type": "code",
      "metadata": {
        "id": "ipq_iR06J8kH"
      },
      "source": [
        "link = \"https://en.wikipedia.org/wiki/List_of_Bollywood_films_of_1974\"\n",
        "df1 = pd.read_html(link, header=0)[3]\n",
        "\n",
        "df_1974 = df1\n",
        "\n",
        "df_1974['Year'] = np.array(['1974']*df_1974.shape[0])"
      ],
      "execution_count": 64,
      "outputs": []
    },
    {
      "cell_type": "code",
      "metadata": {
        "id": "T3B1mj4gK67M"
      },
      "source": [
        "link = \"https://en.wikipedia.org/wiki/List_of_Bollywood_films_of_1975\"\n",
        "df1 = pd.read_html(link, header=0)[2]\n",
        "\n",
        "df_1975 = df1\n",
        "\n",
        "df_1975['Year'] = np.array(['1975']*df_1975.shape[0])"
      ],
      "execution_count": 66,
      "outputs": []
    },
    {
      "cell_type": "code",
      "metadata": {
        "id": "Uaj1_9PRoPNI",
        "outputId": "e1d0370e-7b51-4ba5-d944-c6993d35ad0c",
        "colab": {
          "base_uri": "https://localhost:8080/",
          "height": 237
        }
      },
      "source": [
        "df_1975.head()"
      ],
      "execution_count": 73,
      "outputs": [
        {
          "output_type": "execute_result",
          "data": {
            "text/html": [
              "<div>\n",
              "<style scoped>\n",
              "    .dataframe tbody tr th:only-of-type {\n",
              "        vertical-align: middle;\n",
              "    }\n",
              "\n",
              "    .dataframe tbody tr th {\n",
              "        vertical-align: top;\n",
              "    }\n",
              "\n",
              "    .dataframe thead th {\n",
              "        text-align: right;\n",
              "    }\n",
              "</style>\n",
              "<table border=\"1\" class=\"dataframe\">\n",
              "  <thead>\n",
              "    <tr style=\"text-align: right;\">\n",
              "      <th></th>\n",
              "      <th>Title</th>\n",
              "      <th>Director</th>\n",
              "      <th>Cast</th>\n",
              "      <th>Genre</th>\n",
              "      <th>Sources</th>\n",
              "      <th>Year</th>\n",
              "    </tr>\n",
              "  </thead>\n",
              "  <tbody>\n",
              "    <tr>\n",
              "      <th>0</th>\n",
              "      <td>Aaja Sanam</td>\n",
              "      <td>Yusuf Naqvi</td>\n",
              "      <td>Feroz Khan, Tanuja</td>\n",
              "      <td>Romance</td>\n",
              "      <td>NaN</td>\n",
              "      <td>1975</td>\n",
              "    </tr>\n",
              "    <tr>\n",
              "      <th>1</th>\n",
              "      <td>Aag Aur Toofan</td>\n",
              "      <td>Tanvir Ahmed</td>\n",
              "      <td>Mumtaz, Robin Kumar, Anwar Hussain, Rajan Haskar</td>\n",
              "      <td>NaN</td>\n",
              "      <td>NaN</td>\n",
              "      <td>1975</td>\n",
              "    </tr>\n",
              "    <tr>\n",
              "      <th>2</th>\n",
              "      <td>Aakhri Daao</td>\n",
              "      <td>NaN</td>\n",
              "      <td>Jeetendra, Saira Banu</td>\n",
              "      <td>NaN</td>\n",
              "      <td>Writer - Salim / Javed</td>\n",
              "      <td>1975</td>\n",
              "    </tr>\n",
              "    <tr>\n",
              "      <th>3</th>\n",
              "      <td>Aakraman</td>\n",
              "      <td>J. Om Prakash</td>\n",
              "      <td>Ashok Kumar, Sanjeev Kumar, Rekha, Rakesh Rosh...</td>\n",
              "      <td>NaN</td>\n",
              "      <td>NaN</td>\n",
              "      <td>1975</td>\n",
              "    </tr>\n",
              "    <tr>\n",
              "      <th>4</th>\n",
              "      <td>Aandhi</td>\n",
              "      <td>Gulzar</td>\n",
              "      <td>Suchitra Sen, Sanjeev Kumar</td>\n",
              "      <td>Drama</td>\n",
              "      <td>NaN</td>\n",
              "      <td>1975</td>\n",
              "    </tr>\n",
              "  </tbody>\n",
              "</table>\n",
              "</div>"
            ],
            "text/plain": [
              "            Title       Director  ...                 Sources  Year\n",
              "0      Aaja Sanam    Yusuf Naqvi  ...                     NaN  1975\n",
              "1  Aag Aur Toofan   Tanvir Ahmed  ...                     NaN  1975\n",
              "2     Aakhri Daao            NaN  ...  Writer - Salim / Javed  1975\n",
              "3        Aakraman  J. Om Prakash  ...                     NaN  1975\n",
              "4          Aandhi         Gulzar  ...                     NaN  1975\n",
              "\n",
              "[5 rows x 6 columns]"
            ]
          },
          "metadata": {
            "tags": []
          },
          "execution_count": 73
        }
      ]
    },
    {
      "cell_type": "code",
      "metadata": {
        "id": "zusFEpS8K9iu"
      },
      "source": [
        "link = \"https://en.wikipedia.org/wiki/List_of_Bollywood_films_of_1976\"\n",
        "df1 = pd.read_html(link, header=0)[3]\n",
        "\n",
        "df_1976 = df1\n",
        "\n",
        "df_1976['Year'] = np.array(['1976']*df_1976.shape[0])\n",
        "df_1976 = df_1976[['Title','Director','Cast','Genre','Sources','Year']]"
      ],
      "execution_count": 74,
      "outputs": []
    },
    {
      "cell_type": "code",
      "metadata": {
        "id": "RIlbb_aHMNap"
      },
      "source": [
        "link = \"https://en.wikipedia.org/wiki/List_of_Bollywood_films_of_1977\"\n",
        "df1 = pd.read_html(link, header=0)[3]\n",
        "\n",
        "df_1977 = df1\n",
        "\n",
        "df_1977['Year'] = np.array(['1977']*df_1977.shape[0])"
      ],
      "execution_count": 76,
      "outputs": []
    },
    {
      "cell_type": "code",
      "metadata": {
        "id": "pPJWfA4XMT2Y"
      },
      "source": [
        "link = \"https://en.wikipedia.org/wiki/List_of_Bollywood_films_of_1978\"\n",
        "df1 = pd.read_html(link, header=0)[3]\n",
        "\n",
        "df_1978 = df1\n",
        "\n",
        "df_1978['Year'] = np.array(['1978']*df_1978.shape[0])"
      ],
      "execution_count": 78,
      "outputs": []
    },
    {
      "cell_type": "code",
      "metadata": {
        "id": "liFekx6tMb2p"
      },
      "source": [
        "link = \"https://en.wikipedia.org/wiki/List_of_Bollywood_films_of_1979\"\n",
        "df1 = pd.read_html(link, header=0)[3]\n",
        "\n",
        "df_1979 = df1\n",
        "\n",
        "df_1979['Year'] = np.array(['1979']*df_1979.shape[0])"
      ],
      "execution_count": 82,
      "outputs": []
    },
    {
      "cell_type": "code",
      "metadata": {
        "id": "KG6X0T-oMiUG"
      },
      "source": [
        "frames = [df_1970,df_1971,df_1972,df_1973,df_1974,df_1975,df_1976,df_1977,df_1978,df_1979]\n",
        "\n",
        "df_1970s = pd.concat(frames,ignore_index=True)"
      ],
      "execution_count": 83,
      "outputs": []
    },
    {
      "cell_type": "code",
      "metadata": {
        "id": "Xpjd1I_3MoDM"
      },
      "source": [
        "df_1970s.to_csv('1970s.csv', index = False) "
      ],
      "execution_count": 84,
      "outputs": []
    }
  ]
}