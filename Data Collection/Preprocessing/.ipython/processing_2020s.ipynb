{
  "nbformat": 4,
  "nbformat_minor": 0,
  "metadata": {
    "colab": {
      "name": "processing_2020s.ipynb",
      "provenance": [],
      "mount_file_id": "1JiMEeYBtHlv0kQ6-zfG2TDXwNgz2eZGE",
      "authorship_tag": "ABX9TyMt0AhzaAGXMJhuqGirsPsM",
      "include_colab_link": true
    },
    "kernelspec": {
      "name": "python3",
      "display_name": "Python 3"
    }
  },
  "cells": [
    {
      "cell_type": "markdown",
      "metadata": {
        "id": "view-in-github",
        "colab_type": "text"
      },
      "source": [
        "<a href=\"https://colab.research.google.com/github/Fakhre-Alam-Hub/Movie-Recommendation-System/blob/main/Data%20Collection/Preprocessing/.ipython/processing_2020s.ipynb\" target=\"_parent\"><img src=\"https://colab.research.google.com/assets/colab-badge.svg\" alt=\"Open In Colab\"/></a>"
      ]
    },
    {
      "cell_type": "markdown",
      "metadata": {
        "id": "0zDyGQgpOX9g"
      },
      "source": [
        "## **Adding Genre And Rating In The DataFrame**"
      ]
    },
    {
      "cell_type": "code",
      "metadata": {
        "id": "TQ13QKeYWin6",
        "outputId": "5cd5c9f9-86c6-4a9c-c1b1-00c1a0eb67be",
        "colab": {
          "base_uri": "https://localhost:8080/",
          "height": 159
        }
      },
      "source": [
        "!pip install IMDbpy"
      ],
      "execution_count": 1,
      "outputs": [
        {
          "output_type": "stream",
          "text": [
            "Collecting IMDbpy\n",
            "\u001b[?25l  Downloading https://files.pythonhosted.org/packages/c2/01/f5ac9a00185d02af0da7866e02f36de674c531f4d16a82f6ea942446471a/IMDbPY-2020.9.25-py3-none-any.whl (304kB)\n",
            "\r\u001b[K     |█                               | 10kB 16.8MB/s eta 0:00:01\r\u001b[K     |██▏                             | 20kB 1.6MB/s eta 0:00:01\r\u001b[K     |███▎                            | 30kB 2.2MB/s eta 0:00:01\r\u001b[K     |████▎                           | 40kB 2.4MB/s eta 0:00:01\r\u001b[K     |█████▍                          | 51kB 1.9MB/s eta 0:00:01\r\u001b[K     |██████▌                         | 61kB 2.1MB/s eta 0:00:01\r\u001b[K     |███████▌                        | 71kB 2.3MB/s eta 0:00:01\r\u001b[K     |████████▋                       | 81kB 2.5MB/s eta 0:00:01\r\u001b[K     |█████████▊                      | 92kB 2.7MB/s eta 0:00:01\r\u001b[K     |██████████▊                     | 102kB 2.6MB/s eta 0:00:01\r\u001b[K     |███████████▉                    | 112kB 2.6MB/s eta 0:00:01\r\u001b[K     |█████████████                   | 122kB 2.6MB/s eta 0:00:01\r\u001b[K     |██████████████                  | 133kB 2.6MB/s eta 0:00:01\r\u001b[K     |███████████████                 | 143kB 2.6MB/s eta 0:00:01\r\u001b[K     |████████████████▏               | 153kB 2.6MB/s eta 0:00:01\r\u001b[K     |█████████████████▏              | 163kB 2.6MB/s eta 0:00:01\r\u001b[K     |██████████████████▎             | 174kB 2.6MB/s eta 0:00:01\r\u001b[K     |███████████████████▍            | 184kB 2.6MB/s eta 0:00:01\r\u001b[K     |████████████████████▍           | 194kB 2.6MB/s eta 0:00:01\r\u001b[K     |█████████████████████▌          | 204kB 2.6MB/s eta 0:00:01\r\u001b[K     |██████████████████████▋         | 215kB 2.6MB/s eta 0:00:01\r\u001b[K     |███████████████████████▋        | 225kB 2.6MB/s eta 0:00:01\r\u001b[K     |████████████████████████▊       | 235kB 2.6MB/s eta 0:00:01\r\u001b[K     |█████████████████████████▉      | 245kB 2.6MB/s eta 0:00:01\r\u001b[K     |██████████████████████████▉     | 256kB 2.6MB/s eta 0:00:01\r\u001b[K     |████████████████████████████    | 266kB 2.6MB/s eta 0:00:01\r\u001b[K     |█████████████████████████████   | 276kB 2.6MB/s eta 0:00:01\r\u001b[K     |██████████████████████████████  | 286kB 2.6MB/s eta 0:00:01\r\u001b[K     |███████████████████████████████▏| 296kB 2.6MB/s eta 0:00:01\r\u001b[K     |████████████████████████████████| 307kB 2.6MB/s \n",
            "\u001b[?25hRequirement already satisfied: SQLAlchemy in /usr/local/lib/python3.6/dist-packages (from IMDbpy) (1.3.19)\n",
            "Requirement already satisfied: lxml in /usr/local/lib/python3.6/dist-packages (from IMDbpy) (4.2.6)\n",
            "Installing collected packages: IMDbpy\n",
            "Successfully installed IMDbpy-2020.9.25\n"
          ],
          "name": "stdout"
        }
      ]
    },
    {
      "cell_type": "code",
      "metadata": {
        "id": "ZrCrk5j0C5LK"
      },
      "source": [
        "import pandas as pd\n",
        "import numpy as np\n",
        "import pickle\n",
        "import imdb\n"
      ],
      "execution_count": 2,
      "outputs": []
    },
    {
      "cell_type": "code",
      "metadata": {
        "id": "vq1Kr7BEGFEN"
      },
      "source": [
        "df_2020s = pd.read_csv(\"/content/drive/My Drive/dataset/Movie Recommendation System/Dataset/2020s.csv\")"
      ],
      "execution_count": 3,
      "outputs": []
    },
    {
      "cell_type": "code",
      "metadata": {
        "id": "Hc72PzRKHncv",
        "outputId": "4a73f971-1719-480c-d551-63ab064af897",
        "colab": {
          "base_uri": "https://localhost:8080/",
          "height": 367
        }
      },
      "source": [
        "df_2020s.head(7)"
      ],
      "execution_count": null,
      "outputs": [
        {
          "output_type": "execute_result",
          "data": {
            "text/html": [
              "<div>\n",
              "<style scoped>\n",
              "    .dataframe tbody tr th:only-of-type {\n",
              "        vertical-align: middle;\n",
              "    }\n",
              "\n",
              "    .dataframe tbody tr th {\n",
              "        vertical-align: top;\n",
              "    }\n",
              "\n",
              "    .dataframe thead th {\n",
              "        text-align: right;\n",
              "    }\n",
              "</style>\n",
              "<table border=\"1\" class=\"dataframe\">\n",
              "  <thead>\n",
              "    <tr style=\"text-align: right;\">\n",
              "      <th></th>\n",
              "      <th>Opening</th>\n",
              "      <th>Opening.1</th>\n",
              "      <th>Title</th>\n",
              "      <th>Director</th>\n",
              "      <th>Cast</th>\n",
              "      <th>Studio</th>\n",
              "      <th>Year</th>\n",
              "    </tr>\n",
              "  </thead>\n",
              "  <tbody>\n",
              "    <tr>\n",
              "      <th>0</th>\n",
              "      <td>JAN</td>\n",
              "      <td>1.0</td>\n",
              "      <td>Ghost Stories</td>\n",
              "      <td>Karan JoharDibakar BanerjeeZoya AkhtarAnurag K...</td>\n",
              "      <td>Sobhita DhulipalaMrunal ThakurAvinash TiwaryJa...</td>\n",
              "      <td>RSVP Movies, Flying Unicorn Entertainment, Net...</td>\n",
              "      <td>2020</td>\n",
              "    </tr>\n",
              "    <tr>\n",
              "      <th>1</th>\n",
              "      <td>JAN</td>\n",
              "      <td>3.0</td>\n",
              "      <td>Bhangra Paa Le</td>\n",
              "      <td>Sneha Taurani</td>\n",
              "      <td>Sunny KaushalRukshar DhillonShriya Pilgaonkar</td>\n",
              "      <td>RSVP Movies</td>\n",
              "      <td>2020</td>\n",
              "    </tr>\n",
              "    <tr>\n",
              "      <th>2</th>\n",
              "      <td>JAN</td>\n",
              "      <td>3.0</td>\n",
              "      <td>Sab Kushal Mangal</td>\n",
              "      <td>Karan Vishwanath Kashyap</td>\n",
              "      <td>Akshaye KhannaRiva KishanPriyank Sharma</td>\n",
              "      <td>One Up Entertainment</td>\n",
              "      <td>2020</td>\n",
              "    </tr>\n",
              "    <tr>\n",
              "      <th>3</th>\n",
              "      <td>JAN</td>\n",
              "      <td>3.0</td>\n",
              "      <td>Shimla Mirchi</td>\n",
              "      <td>Ramesh Sippy</td>\n",
              "      <td>Hema MaliniRajkummar RaoRakul Preet Singh</td>\n",
              "      <td>Viacom18 Motion Pictures</td>\n",
              "      <td>2020</td>\n",
              "    </tr>\n",
              "    <tr>\n",
              "      <th>4</th>\n",
              "      <td>JAN</td>\n",
              "      <td>10.0</td>\n",
              "      <td>Chhapaak</td>\n",
              "      <td>Meghna Gulzar</td>\n",
              "      <td>Deepika PadukoneVikrant Massey</td>\n",
              "      <td>Fox Star Studios, Ka Productions, Mriga Films</td>\n",
              "      <td>2020</td>\n",
              "    </tr>\n",
              "    <tr>\n",
              "      <th>5</th>\n",
              "      <td>JAN</td>\n",
              "      <td>10.0</td>\n",
              "      <td>Tanhaji</td>\n",
              "      <td>Om Raut</td>\n",
              "      <td>Ajay DevgnSaif Ali KhanKajolSharad Kelkar</td>\n",
              "      <td>Ajay Devgn FFilms, T-Series</td>\n",
              "      <td>2020</td>\n",
              "    </tr>\n",
              "    <tr>\n",
              "      <th>6</th>\n",
              "      <td>JAN</td>\n",
              "      <td>17.0</td>\n",
              "      <td>Bunker</td>\n",
              "      <td>Jugal Raja</td>\n",
              "      <td>Abhijeet SinghArindita Kalita</td>\n",
              "      <td>Wagging Tail Entertainment</td>\n",
              "      <td>2020</td>\n",
              "    </tr>\n",
              "  </tbody>\n",
              "</table>\n",
              "</div>"
            ],
            "text/plain": [
              "  Opening  Opening.1  ...                                             Studio  Year\n",
              "0     JAN        1.0  ...  RSVP Movies, Flying Unicorn Entertainment, Net...  2020\n",
              "1     JAN        3.0  ...                                        RSVP Movies  2020\n",
              "2     JAN        3.0  ...                               One Up Entertainment  2020\n",
              "3     JAN        3.0  ...                           Viacom18 Motion Pictures  2020\n",
              "4     JAN       10.0  ...      Fox Star Studios, Ka Productions, Mriga Films  2020\n",
              "5     JAN       10.0  ...                        Ajay Devgn FFilms, T-Series  2020\n",
              "6     JAN       17.0  ...                         Wagging Tail Entertainment  2020\n",
              "\n",
              "[7 rows x 7 columns]"
            ]
          },
          "metadata": {
            "tags": []
          },
          "execution_count": 192
        }
      ]
    },
    {
      "cell_type": "code",
      "metadata": {
        "id": "SSuLH7TDHqSR"
      },
      "source": [
        "df_2020s['Title'] = df_2020s['Title'].str.lower()"
      ],
      "execution_count": 4,
      "outputs": []
    },
    {
      "cell_type": "code",
      "metadata": {
        "id": "cvr64qUt9S8L",
        "outputId": "593c0522-82a3-432c-98aa-c03daaf71849",
        "colab": {
          "base_uri": "https://localhost:8080/",
          "height": 110
        }
      },
      "source": [
        "df_2020s[df_2020s['Title'].isnull()]"
      ],
      "execution_count": 7,
      "outputs": [
        {
          "output_type": "execute_result",
          "data": {
            "text/html": [
              "<div>\n",
              "<style scoped>\n",
              "    .dataframe tbody tr th:only-of-type {\n",
              "        vertical-align: middle;\n",
              "    }\n",
              "\n",
              "    .dataframe tbody tr th {\n",
              "        vertical-align: top;\n",
              "    }\n",
              "\n",
              "    .dataframe thead th {\n",
              "        text-align: right;\n",
              "    }\n",
              "</style>\n",
              "<table border=\"1\" class=\"dataframe\">\n",
              "  <thead>\n",
              "    <tr style=\"text-align: right;\">\n",
              "      <th></th>\n",
              "      <th>Opening</th>\n",
              "      <th>Opening.1</th>\n",
              "      <th>Title</th>\n",
              "      <th>Director</th>\n",
              "      <th>Cast</th>\n",
              "      <th>Studio</th>\n",
              "      <th>Year</th>\n",
              "    </tr>\n",
              "  </thead>\n",
              "  <tbody>\n",
              "    <tr>\n",
              "      <th>70</th>\n",
              "      <td>21</td>\n",
              "      <td>NaN</td>\n",
              "      <td>NaN</td>\n",
              "      <td>NaN</td>\n",
              "      <td>NaN</td>\n",
              "      <td>NaN</td>\n",
              "      <td>2020</td>\n",
              "    </tr>\n",
              "    <tr>\n",
              "      <th>82</th>\n",
              "      <td>NOV</td>\n",
              "      <td>NaN</td>\n",
              "      <td>NaN</td>\n",
              "      <td>NaN</td>\n",
              "      <td>NaN</td>\n",
              "      <td>NaN</td>\n",
              "      <td>2020</td>\n",
              "    </tr>\n",
              "  </tbody>\n",
              "</table>\n",
              "</div>"
            ],
            "text/plain": [
              "   Opening  Opening.1 Title Director Cast Studio  Year\n",
              "70      21        NaN   NaN      NaN  NaN    NaN  2020\n",
              "82     NOV        NaN   NaN      NaN  NaN    NaN  2020"
            ]
          },
          "metadata": {
            "tags": []
          },
          "execution_count": 7
        }
      ]
    },
    {
      "cell_type": "code",
      "metadata": {
        "id": "HasGZp2g9tGQ"
      },
      "source": [
        "df_2020s.dropna(axis=0,how='any',inplace=True)"
      ],
      "execution_count": 18,
      "outputs": []
    },
    {
      "cell_type": "code",
      "metadata": {
        "id": "ceCP2u1hr_8d"
      },
      "source": [
        "def get_genres(row):\n",
        "  io = imdb.IMDb()\n",
        "  search=io.search_movie(row['Title'])\n",
        "\n",
        "  for i in range(len(search)):\n",
        "    try:\n",
        "      if search[i]['year']==row['Year']:\n",
        "        id=search[i].movieID\n",
        "        movie=io.get_movie(id)\n",
        "        return listToString(movie['genres'])\n",
        "    except KeyError:\n",
        "      None"
      ],
      "execution_count": 21,
      "outputs": []
    },
    {
      "cell_type": "code",
      "metadata": {
        "id": "jfV11414Cvpj"
      },
      "source": [
        "df_2020s['Genres'] = df_2020s.apply(lambda x : get_genres(x),axis=1)"
      ],
      "execution_count": 22,
      "outputs": []
    },
    {
      "cell_type": "code",
      "metadata": {
        "id": "qM3g7ViaD13V",
        "outputId": "4a244308-8d71-4d4c-d1f4-cb419b67d0b9",
        "colab": {
          "base_uri": "https://localhost:8080/",
          "height": 393
        }
      },
      "source": [
        "df_2020s.head()"
      ],
      "execution_count": 23,
      "outputs": [
        {
          "output_type": "execute_result",
          "data": {
            "text/html": [
              "<div>\n",
              "<style scoped>\n",
              "    .dataframe tbody tr th:only-of-type {\n",
              "        vertical-align: middle;\n",
              "    }\n",
              "\n",
              "    .dataframe tbody tr th {\n",
              "        vertical-align: top;\n",
              "    }\n",
              "\n",
              "    .dataframe thead th {\n",
              "        text-align: right;\n",
              "    }\n",
              "</style>\n",
              "<table border=\"1\" class=\"dataframe\">\n",
              "  <thead>\n",
              "    <tr style=\"text-align: right;\">\n",
              "      <th></th>\n",
              "      <th>Opening</th>\n",
              "      <th>Opening.1</th>\n",
              "      <th>Title</th>\n",
              "      <th>Director</th>\n",
              "      <th>Cast</th>\n",
              "      <th>Studio</th>\n",
              "      <th>Year</th>\n",
              "      <th>Genres</th>\n",
              "    </tr>\n",
              "  </thead>\n",
              "  <tbody>\n",
              "    <tr>\n",
              "      <th>0</th>\n",
              "      <td>JAN</td>\n",
              "      <td>1.0</td>\n",
              "      <td>ghost stories</td>\n",
              "      <td>Karan JoharDibakar BanerjeeZoya AkhtarAnurag K...</td>\n",
              "      <td>Sobhita DhulipalaMrunal ThakurAvinash TiwaryJa...</td>\n",
              "      <td>RSVP Movies, Flying Unicorn Entertainment, Net...</td>\n",
              "      <td>2020</td>\n",
              "      <td>Horror Thriller</td>\n",
              "    </tr>\n",
              "    <tr>\n",
              "      <th>1</th>\n",
              "      <td>JAN</td>\n",
              "      <td>3.0</td>\n",
              "      <td>bhangra paa le</td>\n",
              "      <td>Sneha Taurani</td>\n",
              "      <td>Sunny KaushalRukshar DhillonShriya Pilgaonkar</td>\n",
              "      <td>RSVP Movies</td>\n",
              "      <td>2020</td>\n",
              "      <td>Comedy Drama Music</td>\n",
              "    </tr>\n",
              "    <tr>\n",
              "      <th>2</th>\n",
              "      <td>JAN</td>\n",
              "      <td>3.0</td>\n",
              "      <td>sab kushal mangal</td>\n",
              "      <td>Karan Vishwanath Kashyap</td>\n",
              "      <td>Akshaye KhannaRiva KishanPriyank Sharma</td>\n",
              "      <td>One Up Entertainment</td>\n",
              "      <td>2020</td>\n",
              "      <td>Romance</td>\n",
              "    </tr>\n",
              "    <tr>\n",
              "      <th>3</th>\n",
              "      <td>JAN</td>\n",
              "      <td>3.0</td>\n",
              "      <td>shimla mirchi</td>\n",
              "      <td>Ramesh Sippy</td>\n",
              "      <td>Hema MaliniRajkummar RaoRakul Preet Singh</td>\n",
              "      <td>Viacom18 Motion Pictures</td>\n",
              "      <td>2020</td>\n",
              "      <td>Comedy Romance</td>\n",
              "    </tr>\n",
              "    <tr>\n",
              "      <th>4</th>\n",
              "      <td>JAN</td>\n",
              "      <td>10.0</td>\n",
              "      <td>chhapaak</td>\n",
              "      <td>Meghna Gulzar</td>\n",
              "      <td>Deepika PadukoneVikrant Massey</td>\n",
              "      <td>Fox Star Studios, Ka Productions, Mriga Films</td>\n",
              "      <td>2020</td>\n",
              "      <td>Biography Drama</td>\n",
              "    </tr>\n",
              "  </tbody>\n",
              "</table>\n",
              "</div>"
            ],
            "text/plain": [
              "  Opening  Opening.1  ...  Year              Genres\n",
              "0     JAN        1.0  ...  2020     Horror Thriller\n",
              "1     JAN        3.0  ...  2020  Comedy Drama Music\n",
              "2     JAN        3.0  ...  2020             Romance\n",
              "3     JAN        3.0  ...  2020      Comedy Romance\n",
              "4     JAN       10.0  ...  2020     Biography Drama\n",
              "\n",
              "[5 rows x 8 columns]"
            ]
          },
          "metadata": {
            "tags": []
          },
          "execution_count": 23
        }
      ]
    },
    {
      "cell_type": "code",
      "metadata": {
        "id": "VQTb_WR4D9eO"
      },
      "source": [
        "def get_rating(row):\n",
        "  io = imdb.IMDb()\n",
        "  search=io.search_movie(row['Title'])\n",
        "\n",
        "  for i in range(len(search)):\n",
        "    try:\n",
        "      if search[i]['year']==row['Year']:\n",
        "        id=search[i].movieID\n",
        "        movie=io.get_movie(id)\n",
        "        return movie['rating']\n",
        "    except KeyError:\n",
        "      None"
      ],
      "execution_count": 24,
      "outputs": []
    },
    {
      "cell_type": "code",
      "metadata": {
        "id": "C2LXNBvuESpx"
      },
      "source": [
        "df_2020s['Rating'] = df_2020s.apply(lambda x : get_rating(x),axis=1)"
      ],
      "execution_count": 25,
      "outputs": []
    },
    {
      "cell_type": "code",
      "metadata": {
        "id": "o869On9QsrNt",
        "outputId": "b1ac0eec-d330-4ab9-8724-fb4b32f34681",
        "colab": {
          "base_uri": "https://localhost:8080/",
          "height": 445
        }
      },
      "source": [
        "df_2020s.head()"
      ],
      "execution_count": 26,
      "outputs": [
        {
          "output_type": "execute_result",
          "data": {
            "text/html": [
              "<div>\n",
              "<style scoped>\n",
              "    .dataframe tbody tr th:only-of-type {\n",
              "        vertical-align: middle;\n",
              "    }\n",
              "\n",
              "    .dataframe tbody tr th {\n",
              "        vertical-align: top;\n",
              "    }\n",
              "\n",
              "    .dataframe thead th {\n",
              "        text-align: right;\n",
              "    }\n",
              "</style>\n",
              "<table border=\"1\" class=\"dataframe\">\n",
              "  <thead>\n",
              "    <tr style=\"text-align: right;\">\n",
              "      <th></th>\n",
              "      <th>Opening</th>\n",
              "      <th>Opening.1</th>\n",
              "      <th>Title</th>\n",
              "      <th>Director</th>\n",
              "      <th>Cast</th>\n",
              "      <th>Studio</th>\n",
              "      <th>Year</th>\n",
              "      <th>Genres</th>\n",
              "      <th>Rating</th>\n",
              "    </tr>\n",
              "  </thead>\n",
              "  <tbody>\n",
              "    <tr>\n",
              "      <th>0</th>\n",
              "      <td>JAN</td>\n",
              "      <td>1.0</td>\n",
              "      <td>ghost stories</td>\n",
              "      <td>Karan JoharDibakar BanerjeeZoya AkhtarAnurag K...</td>\n",
              "      <td>Sobhita DhulipalaMrunal ThakurAvinash TiwaryJa...</td>\n",
              "      <td>RSVP Movies, Flying Unicorn Entertainment, Net...</td>\n",
              "      <td>2020</td>\n",
              "      <td>Horror Thriller</td>\n",
              "      <td>4.3</td>\n",
              "    </tr>\n",
              "    <tr>\n",
              "      <th>1</th>\n",
              "      <td>JAN</td>\n",
              "      <td>3.0</td>\n",
              "      <td>bhangra paa le</td>\n",
              "      <td>Sneha Taurani</td>\n",
              "      <td>Sunny KaushalRukshar DhillonShriya Pilgaonkar</td>\n",
              "      <td>RSVP Movies</td>\n",
              "      <td>2020</td>\n",
              "      <td>Comedy Drama Music</td>\n",
              "      <td>6.1</td>\n",
              "    </tr>\n",
              "    <tr>\n",
              "      <th>2</th>\n",
              "      <td>JAN</td>\n",
              "      <td>3.0</td>\n",
              "      <td>sab kushal mangal</td>\n",
              "      <td>Karan Vishwanath Kashyap</td>\n",
              "      <td>Akshaye KhannaRiva KishanPriyank Sharma</td>\n",
              "      <td>One Up Entertainment</td>\n",
              "      <td>2020</td>\n",
              "      <td>Romance</td>\n",
              "      <td>6.1</td>\n",
              "    </tr>\n",
              "    <tr>\n",
              "      <th>3</th>\n",
              "      <td>JAN</td>\n",
              "      <td>3.0</td>\n",
              "      <td>shimla mirchi</td>\n",
              "      <td>Ramesh Sippy</td>\n",
              "      <td>Hema MaliniRajkummar RaoRakul Preet Singh</td>\n",
              "      <td>Viacom18 Motion Pictures</td>\n",
              "      <td>2020</td>\n",
              "      <td>Comedy Romance</td>\n",
              "      <td>4.6</td>\n",
              "    </tr>\n",
              "    <tr>\n",
              "      <th>4</th>\n",
              "      <td>JAN</td>\n",
              "      <td>10.0</td>\n",
              "      <td>chhapaak</td>\n",
              "      <td>Meghna Gulzar</td>\n",
              "      <td>Deepika PadukoneVikrant Massey</td>\n",
              "      <td>Fox Star Studios, Ka Productions, Mriga Films</td>\n",
              "      <td>2020</td>\n",
              "      <td>Biography Drama</td>\n",
              "      <td>5.1</td>\n",
              "    </tr>\n",
              "  </tbody>\n",
              "</table>\n",
              "</div>"
            ],
            "text/plain": [
              "  Opening  Opening.1              Title  ...  Year              Genres Rating\n",
              "0     JAN        1.0      ghost stories  ...  2020     Horror Thriller    4.3\n",
              "1     JAN        3.0     bhangra paa le  ...  2020  Comedy Drama Music    6.1\n",
              "2     JAN        3.0  sab kushal mangal  ...  2020             Romance    6.1\n",
              "3     JAN        3.0      shimla mirchi  ...  2020      Comedy Romance    4.6\n",
              "4     JAN       10.0           chhapaak  ...  2020     Biography Drama    5.1\n",
              "\n",
              "[5 rows x 9 columns]"
            ]
          },
          "metadata": {
            "tags": []
          },
          "execution_count": 26
        }
      ]
    },
    {
      "cell_type": "code",
      "metadata": {
        "id": "7tB_srInGCxc"
      },
      "source": [
        "row=df_2020s.iloc[0]"
      ],
      "execution_count": 28,
      "outputs": []
    },
    {
      "cell_type": "code",
      "metadata": {
        "id": "jwvyxljZGIol",
        "outputId": "2e7422ab-e8f1-495c-e818-330a0096a6fe",
        "colab": {
          "base_uri": "https://localhost:8080/",
          "height": 191
        }
      },
      "source": [
        "row"
      ],
      "execution_count": 29,
      "outputs": [
        {
          "output_type": "execute_result",
          "data": {
            "text/plain": [
              "Opening                                                    JAN\n",
              "Opening.1                                                    1\n",
              "Title                                            ghost stories\n",
              "Director     Karan JoharDibakar BanerjeeZoya AkhtarAnurag K...\n",
              "Cast         Sobhita DhulipalaMrunal ThakurAvinash TiwaryJa...\n",
              "Studio       RSVP Movies, Flying Unicorn Entertainment, Net...\n",
              "Year                                                      2020\n",
              "Genres                                         Horror Thriller\n",
              "Rating                                                     4.3\n",
              "Name: 0, dtype: object"
            ]
          },
          "metadata": {
            "tags": []
          },
          "execution_count": 29
        }
      ]
    },
    {
      "cell_type": "code",
      "metadata": {
        "id": "MMghVU_W0S5v"
      },
      "source": [
        "comb = row['Director']+' '+row['Cast']+' '+row['Genres']"
      ],
      "execution_count": 30,
      "outputs": []
    },
    {
      "cell_type": "code",
      "metadata": {
        "id": "yJHuPg0QJWh_",
        "outputId": "d0277398-08b6-4d3c-ee4d-b77584f4677f",
        "colab": {
          "base_uri": "https://localhost:8080/",
          "height": 49
        }
      },
      "source": [
        "df_2020s[df_2020s['Genres'].isnull()]"
      ],
      "execution_count": 52,
      "outputs": [
        {
          "output_type": "execute_result",
          "data": {
            "text/html": [
              "<div>\n",
              "<style scoped>\n",
              "    .dataframe tbody tr th:only-of-type {\n",
              "        vertical-align: middle;\n",
              "    }\n",
              "\n",
              "    .dataframe tbody tr th {\n",
              "        vertical-align: top;\n",
              "    }\n",
              "\n",
              "    .dataframe thead th {\n",
              "        text-align: right;\n",
              "    }\n",
              "</style>\n",
              "<table border=\"1\" class=\"dataframe\">\n",
              "  <thead>\n",
              "    <tr style=\"text-align: right;\">\n",
              "      <th></th>\n",
              "      <th>Opening</th>\n",
              "      <th>Opening.1</th>\n",
              "      <th>Title</th>\n",
              "      <th>Director</th>\n",
              "      <th>Cast</th>\n",
              "      <th>Studio</th>\n",
              "      <th>Year</th>\n",
              "      <th>Genres</th>\n",
              "      <th>Rating</th>\n",
              "    </tr>\n",
              "  </thead>\n",
              "  <tbody>\n",
              "  </tbody>\n",
              "</table>\n",
              "</div>"
            ],
            "text/plain": [
              "Empty DataFrame\n",
              "Columns: [Opening, Opening.1, Title, Director, Cast, Studio, Year, Genres, Rating]\n",
              "Index: []"
            ]
          },
          "metadata": {
            "tags": []
          },
          "execution_count": 52
        }
      ]
    },
    {
      "cell_type": "code",
      "metadata": {
        "id": "qCRDL6xPE9mn"
      },
      "source": [
        ""
      ],
      "execution_count": 50,
      "outputs": []
    },
    {
      "cell_type": "code",
      "metadata": {
        "id": "fspbV7SUKQqR",
        "outputId": "e8bf03a3-8c0a-4113-9447-708a1b2e608c",
        "colab": {
          "base_uri": "https://localhost:8080/",
          "height": 191
        }
      },
      "source": [
        "df_2020s.isnull().sum()"
      ],
      "execution_count": 51,
      "outputs": [
        {
          "output_type": "execute_result",
          "data": {
            "text/plain": [
              "Opening       0\n",
              "Opening.1     0\n",
              "Title         0\n",
              "Director      0\n",
              "Cast          0\n",
              "Studio        0\n",
              "Year          0\n",
              "Genres        0\n",
              "Rating       17\n",
              "dtype: int64"
            ]
          },
          "metadata": {
            "tags": []
          },
          "execution_count": 51
        }
      ]
    },
    {
      "cell_type": "code",
      "metadata": {
        "id": "CGa2IdbmLOV4"
      },
      "source": [
        "df_2020s['Genres'] = df_2020s['Genres'].fillna(value=' ')"
      ],
      "execution_count": 53,
      "outputs": []
    },
    {
      "cell_type": "code",
      "metadata": {
        "id": "CaOAxp12GPIp"
      },
      "source": [
        "import re\n",
        "\n",
        "def combine_feature(row):\n",
        "  comb = row['Director']+' '+row['Cast']+' '+row['Genres']\n",
        "  lst=re.findall('.[^A-Z]*', comb)\n",
        "\n",
        "  def listToString(list):\n",
        "      str1 = \" \"\n",
        "      return (str1.join(list))\n",
        "\n",
        "  convertedStr = listToString(lst)\n",
        "  return convertedStr.replace('  ',' ')\n"
      ],
      "execution_count": 54,
      "outputs": []
    },
    {
      "cell_type": "code",
      "metadata": {
        "id": "dtm7rWu1GjBn"
      },
      "source": [
        "df_2020s['Combined'] = df_2020s.apply(lambda x: combine_feature(x),axis=1)"
      ],
      "execution_count": 55,
      "outputs": []
    },
    {
      "cell_type": "code",
      "metadata": {
        "id": "IAUeds1DH5kN",
        "outputId": "63d399af-8177-4cea-9813-fa1a975ca404",
        "colab": {
          "base_uri": "https://localhost:8080/",
          "height": 687
        }
      },
      "source": [
        "df_2020s.head()"
      ],
      "execution_count": 56,
      "outputs": [
        {
          "output_type": "execute_result",
          "data": {
            "text/html": [
              "<div>\n",
              "<style scoped>\n",
              "    .dataframe tbody tr th:only-of-type {\n",
              "        vertical-align: middle;\n",
              "    }\n",
              "\n",
              "    .dataframe tbody tr th {\n",
              "        vertical-align: top;\n",
              "    }\n",
              "\n",
              "    .dataframe thead th {\n",
              "        text-align: right;\n",
              "    }\n",
              "</style>\n",
              "<table border=\"1\" class=\"dataframe\">\n",
              "  <thead>\n",
              "    <tr style=\"text-align: right;\">\n",
              "      <th></th>\n",
              "      <th>Opening</th>\n",
              "      <th>Opening.1</th>\n",
              "      <th>Title</th>\n",
              "      <th>Director</th>\n",
              "      <th>Cast</th>\n",
              "      <th>Studio</th>\n",
              "      <th>Year</th>\n",
              "      <th>Genres</th>\n",
              "      <th>Rating</th>\n",
              "      <th>Combined</th>\n",
              "    </tr>\n",
              "  </thead>\n",
              "  <tbody>\n",
              "    <tr>\n",
              "      <th>0</th>\n",
              "      <td>JAN</td>\n",
              "      <td>1.0</td>\n",
              "      <td>ghost stories</td>\n",
              "      <td>Karan JoharDibakar BanerjeeZoya AkhtarAnurag K...</td>\n",
              "      <td>Sobhita DhulipalaMrunal ThakurAvinash TiwaryJa...</td>\n",
              "      <td>RSVP Movies, Flying Unicorn Entertainment, Net...</td>\n",
              "      <td>2020</td>\n",
              "      <td>Horror Thriller</td>\n",
              "      <td>4.3</td>\n",
              "      <td>Karan Johar Dibakar Banerjee Zoya Akhtar Anura...</td>\n",
              "    </tr>\n",
              "    <tr>\n",
              "      <th>1</th>\n",
              "      <td>JAN</td>\n",
              "      <td>3.0</td>\n",
              "      <td>bhangra paa le</td>\n",
              "      <td>Sneha Taurani</td>\n",
              "      <td>Sunny KaushalRukshar DhillonShriya Pilgaonkar</td>\n",
              "      <td>RSVP Movies</td>\n",
              "      <td>2020</td>\n",
              "      <td>Comedy Drama Music</td>\n",
              "      <td>6.1</td>\n",
              "      <td>Sneha Taurani Sunny Kaushal Rukshar Dhillon Sh...</td>\n",
              "    </tr>\n",
              "    <tr>\n",
              "      <th>2</th>\n",
              "      <td>JAN</td>\n",
              "      <td>3.0</td>\n",
              "      <td>sab kushal mangal</td>\n",
              "      <td>Karan Vishwanath Kashyap</td>\n",
              "      <td>Akshaye KhannaRiva KishanPriyank Sharma</td>\n",
              "      <td>One Up Entertainment</td>\n",
              "      <td>2020</td>\n",
              "      <td>Romance</td>\n",
              "      <td>6.1</td>\n",
              "      <td>Karan Vishwanath Kashyap Akshaye Khanna Riva K...</td>\n",
              "    </tr>\n",
              "    <tr>\n",
              "      <th>3</th>\n",
              "      <td>JAN</td>\n",
              "      <td>3.0</td>\n",
              "      <td>shimla mirchi</td>\n",
              "      <td>Ramesh Sippy</td>\n",
              "      <td>Hema MaliniRajkummar RaoRakul Preet Singh</td>\n",
              "      <td>Viacom18 Motion Pictures</td>\n",
              "      <td>2020</td>\n",
              "      <td>Comedy Romance</td>\n",
              "      <td>4.6</td>\n",
              "      <td>Ramesh Sippy Hema Malini Rajkummar Rao Rakul P...</td>\n",
              "    </tr>\n",
              "    <tr>\n",
              "      <th>4</th>\n",
              "      <td>JAN</td>\n",
              "      <td>10.0</td>\n",
              "      <td>chhapaak</td>\n",
              "      <td>Meghna Gulzar</td>\n",
              "      <td>Deepika PadukoneVikrant Massey</td>\n",
              "      <td>Fox Star Studios, Ka Productions, Mriga Films</td>\n",
              "      <td>2020</td>\n",
              "      <td>Biography Drama</td>\n",
              "      <td>5.1</td>\n",
              "      <td>Meghna Gulzar Deepika Padukone Vikrant Massey ...</td>\n",
              "    </tr>\n",
              "  </tbody>\n",
              "</table>\n",
              "</div>"
            ],
            "text/plain": [
              "  Opening  Opening.1  ... Rating                                           Combined\n",
              "0     JAN        1.0  ...    4.3  Karan Johar Dibakar Banerjee Zoya Akhtar Anura...\n",
              "1     JAN        3.0  ...    6.1  Sneha Taurani Sunny Kaushal Rukshar Dhillon Sh...\n",
              "2     JAN        3.0  ...    6.1  Karan Vishwanath Kashyap Akshaye Khanna Riva K...\n",
              "3     JAN        3.0  ...    4.6  Ramesh Sippy Hema Malini Rajkummar Rao Rakul P...\n",
              "4     JAN       10.0  ...    5.1  Meghna Gulzar Deepika Padukone Vikrant Massey ...\n",
              "\n",
              "[5 rows x 10 columns]"
            ]
          },
          "metadata": {
            "tags": []
          },
          "execution_count": 56
        }
      ]
    },
    {
      "cell_type": "code",
      "metadata": {
        "id": "cbXGNW2wLUqT",
        "outputId": "94988cb1-1957-41c5-9cb2-aa2d36e46688",
        "colab": {
          "base_uri": "https://localhost:8080/",
          "height": 70
        }
      },
      "source": [
        "df_2020s['Combined'].loc[0]"
      ],
      "execution_count": 58,
      "outputs": [
        {
          "output_type": "execute_result",
          "data": {
            "application/vnd.google.colaboratory.intrinsic+json": {
              "type": "string"
            },
            "text/plain": [
              "'Karan Johar Dibakar Banerjee Zoya Akhtar Anurag Kashyap Sobhita Dhulipala Mrunal Thakur Avinash Tiwary Janhvi Kapoor Surekha Sikri Raghuvir Yadav Gulshan Devaiah Vijay Varma Pavail Gulati Jyoti Subhash Eva Ameet Pardeshi Kitu Gidwani Sumit Tandon Horror Thriller'"
            ]
          },
          "metadata": {
            "tags": []
          },
          "execution_count": 58
        }
      ]
    },
    {
      "cell_type": "code",
      "metadata": {
        "id": "jiT6XJd8N0Rs"
      },
      "source": [
        "df_2020s['Combined'] = df_2020s['Combined'].str.lower()"
      ],
      "execution_count": 60,
      "outputs": []
    },
    {
      "cell_type": "code",
      "metadata": {
        "id": "brxGZg8OLZh4"
      },
      "source": [
        "df_2020s.to_csv('processed_2020s.csv',index=False)"
      ],
      "execution_count": 61,
      "outputs": []
    },
    {
      "cell_type": "code",
      "metadata": {
        "id": "_g2ZkxB6MS7X"
      },
      "source": [
        ""
      ],
      "execution_count": null,
      "outputs": []
    }
  ]
}