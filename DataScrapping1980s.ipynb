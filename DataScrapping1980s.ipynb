{
  "nbformat": 4,
  "nbformat_minor": 0,
  "metadata": {
    "colab": {
      "name": "DataScrapping1970s.ipynb",
      "provenance": [],
      "collapsed_sections": [],
      "toc_visible": true,
      "mount_file_id": "1TWlvQJsRQmzsZ7spRVZekzTU4XbedRsF",
      "authorship_tag": "ABX9TyMIq64ks0D0uVtvjeEuPrM5",
      "include_colab_link": true
    },
    "kernelspec": {
      "name": "python3",
      "display_name": "Python 3"
    }
  },
  "cells": [
    {
      "cell_type": "markdown",
      "metadata": {
        "id": "view-in-github",
        "colab_type": "text"
      },
      "source": [
        "<a href=\"https://colab.research.google.com/github/Fakhre-Alam-Hub/Movie-Recommendation-System/blob/main/DataScrapping1980s.ipynb\" target=\"_parent\"><img src=\"https://colab.research.google.com/assets/colab-badge.svg\" alt=\"Open In Colab\"/></a>"
      ]
    },
    {
      "cell_type": "markdown",
      "metadata": {
        "id": "b2jCT3bdNwUo"
      },
      "source": [
        "# Bollywood 1980s Movie Data Scrapping from Wikipedia"
      ]
    },
    {
      "cell_type": "code",
      "metadata": {
        "id": "iMOcZAbeIrDu"
      },
      "source": [
        "import pandas as pd\n",
        "import numpy as np"
      ],
      "execution_count": 21,
      "outputs": []
    },
    {
      "cell_type": "code",
      "metadata": {
        "id": "Y8Oo-mzfJRzP"
      },
      "source": [
        "link = \"https://en.wikipedia.org/wiki/List_of_Bollywood_films_of_1980\"\n",
        "df1 = pd.read_html(link, header=0)[2]\n",
        "\n",
        "df_1980 = df1\n",
        "df_1980['Year'] = np.array(['1980']*df_1980.shape[0])"
      ],
      "execution_count": 22,
      "outputs": []
    },
    {
      "cell_type": "code",
      "metadata": {
        "id": "w_P-FKTVJ5ZC"
      },
      "source": [
        "link = \"https://en.wikipedia.org/wiki/List_of_Bollywood_films_of_1981\"\n",
        "df1 = pd.read_html(link, header=0)[2]\n",
        "\n",
        "df_1981 = df1\n",
        "\n",
        "df_1981['Year'] = np.array(['1981']*df_1981.shape[0])"
      ],
      "execution_count": 23,
      "outputs": []
    },
    {
      "cell_type": "code",
      "metadata": {
        "id": "JaBINqnVHGlE"
      },
      "source": [
        "# df1 = pd.read_html(link, header=0)[2]\n",
        "# df2 = pd.read_html(link, header=0)[3]\n",
        "# df3 = pd.read_html(link, header=0)[4]\n",
        "# df4 = pd.read_html(link, header=0)[5]\n",
        "# df5 = pd.read_html(link, header=0)[6]\n",
        "# df6 = pd.read_html(link, header=0)[7]\n",
        "\n",
        "# df_1963 = df1.append(df2.append(df3.append(df4.append(df5.append(df6,ignore_index=True),ignore_index=True),ignore_index=True),ignore_index=True),ignore_index=True)\n"
      ],
      "execution_count": 5,
      "outputs": []
    },
    {
      "cell_type": "code",
      "metadata": {
        "id": "s4qESFW4KPM6"
      },
      "source": [
        "link = \"https://en.wikipedia.org/wiki/List_of_Bollywood_films_of_1982\"\n",
        "df1 = pd.read_html(link, header=0)[2]\n",
        "\n",
        "df_1982 = df1\n",
        "\n",
        "df_1982['Year'] = np.array(['1982']*df_1982.shape[0])"
      ],
      "execution_count": 24,
      "outputs": []
    },
    {
      "cell_type": "code",
      "metadata": {
        "id": "EmRKpFsYKiSo"
      },
      "source": [
        "link = \"https://en.wikipedia.org/wiki/List_of_Bollywood_films_of_1983\"\n",
        "df1 = pd.read_html(link, header=0)[2]\n",
        "\n",
        "df_1983 = df1\n",
        "\n",
        "\n",
        "df_1983['Year'] = np.array(['1983']*df_1983.shape[0])"
      ],
      "execution_count": 25,
      "outputs": []
    },
    {
      "cell_type": "code",
      "metadata": {
        "id": "ipq_iR06J8kH"
      },
      "source": [
        "link = \"https://en.wikipedia.org/wiki/List_of_Bollywood_films_of_1984\"\n",
        "df1 = pd.read_html(link, header=0)[2]\n",
        "\n",
        "df_1984 = df1\n",
        "\n",
        "df_1984['Year'] = np.array(['1984']*df_1984.shape[0])"
      ],
      "execution_count": 26,
      "outputs": []
    },
    {
      "cell_type": "code",
      "metadata": {
        "id": "T3B1mj4gK67M"
      },
      "source": [
        "link = \"https://en.wikipedia.org/wiki/List_of_Bollywood_films_of_1985\"\n",
        "df1 = pd.read_html(link, header=0)[2]\n",
        "\n",
        "df_1985 = df1\n",
        "\n",
        "df_1985['Year'] = np.array(['1985']*df_1985.shape[0])"
      ],
      "execution_count": 27,
      "outputs": []
    },
    {
      "cell_type": "code",
      "metadata": {
        "id": "zusFEpS8K9iu"
      },
      "source": [
        "link = \"https://en.wikipedia.org/wiki/List_of_Bollywood_films_of_1986\"\n",
        "df1 = pd.read_html(link, header=0)[2]\n",
        "df2 = pd.read_html(link, header=0)[3]\n",
        "df3 = pd.read_html(link, header=0)[4]\n",
        "\n",
        "df_1986 = df1.append(df2.append(df3,ignore_index=True),ignore_index=True)\n",
        "\n",
        "df_1986['Year'] = np.array(['1986']*df_1986.shape[0])"
      ],
      "execution_count": 28,
      "outputs": []
    },
    {
      "cell_type": "code",
      "metadata": {
        "id": "RIlbb_aHMNap"
      },
      "source": [
        "link = \"https://en.wikipedia.org/wiki/List_of_Bollywood_films_of_1987\"\n",
        "df1 = pd.read_html(link, header=0)[2]\n",
        "\n",
        "df_1987 = df1\n",
        "\n",
        "df_1987['Year'] = np.array(['1987']*df_1987.shape[0])"
      ],
      "execution_count": 29,
      "outputs": []
    },
    {
      "cell_type": "code",
      "metadata": {
        "id": "pPJWfA4XMT2Y"
      },
      "source": [
        "link = \"https://en.wikipedia.org/wiki/List_of_Bollywood_films_of_1988\"\n",
        "df1 = pd.read_html(link, header=0)[2]\n",
        "\n",
        "df_1988 = df1\n",
        "\n",
        "df_1988['Year'] = np.array(['1988']*df_1988.shape[0])"
      ],
      "execution_count": 30,
      "outputs": []
    },
    {
      "cell_type": "code",
      "metadata": {
        "id": "liFekx6tMb2p"
      },
      "source": [
        "link = \"https://en.wikipedia.org/wiki/List_of_Bollywood_films_of_1989\"\n",
        "df1 = pd.read_html(link, header=0)[2]\n",
        "\n",
        "df_1989 = df1\n",
        "\n",
        "df_1989['Year'] = np.array(['1989']*df_1989.shape[0])"
      ],
      "execution_count": 31,
      "outputs": []
    },
    {
      "cell_type": "code",
      "metadata": {
        "id": "KG6X0T-oMiUG"
      },
      "source": [
        "frames = [df_1980,df_1981,df_1982,df_1983,df_1984,df_1985,df_1986,df_1987,df_1988,df_1989]\n",
        "\n",
        "df_1980s = pd.concat(frames,ignore_index=True)"
      ],
      "execution_count": 32,
      "outputs": []
    },
    {
      "cell_type": "code",
      "metadata": {
        "id": "Xpjd1I_3MoDM"
      },
      "source": [
        "df_1980s.to_csv('1980s.csv', index = False) "
      ],
      "execution_count": 33,
      "outputs": []
    }
  ]
}